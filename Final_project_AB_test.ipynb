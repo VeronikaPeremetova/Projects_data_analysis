{
 "cells": [
  {
   "cell_type": "markdown",
   "id": "11663484",
   "metadata": {},
   "source": [
    "# Исследование образовательной платформы"
   ]
  },
  {
   "cell_type": "markdown",
   "id": "c2f6550c",
   "metadata": {},
   "source": [
    "Проект был выполнен в рамках курса «Аналитик данных», Karpov_cources. \n",
    "Тема проекта – «Исследование образовательной платформы».\n",
    "\n",
    "Задание 1. A/B–тестирование\n",
    "В ходе тестирования одной гипотезы целевой группе была предложена новая механика оплаты услуг на сайте, у контрольной группы оставалась базовая механика. Необходимо проанализировать итоги эксперимента и сделать вывод, стоит ли запускать новую механику оплаты на всех пользователей.\n",
    "\n",
    "Задание 2. Python\n",
    "Необходимо реализовать функцию, которая будет автоматически подгружать информацию из дополнительного файла groups_add.csv (заголовки могут отличаться) и на основании дополнительных параметров пересчитывать метрики. Также необходимо реализовать функцию, которая будет строить графики по получаемым метрикам.\n"
   ]
  },
  {
   "cell_type": "markdown",
   "id": "339545f9",
   "metadata": {},
   "source": [
    "## План работы\n",
    "### 1. <a href=\"#A/B-тестирование\">A/B-тестирование</a>\n",
    " 1.1.  <a href=\"#Загрузка данных и ознакомление, подготовка объединенных данных\">Загрузка данных и ознакомление, подготовка объединенных данных</a>   \n",
    " 1.2.  <a href=\"#Исследовательский анализ, проверка нормальности распределения метрик: ARPU и ARPPU\">Исследовательский анализ, проверка нормальности распределения метрик: ARPU и ARPPU</a>   \n",
    " 1.3.  <a href=\"#Статистический анализ значимости различия конверсии в покупку между группами\">Статистический анализ значимости различия конверсии в покупку между группами</a>  \n",
    " 1.4. <a href=\"#Выводы\">Выводы</a>\n",
    " \n",
    " \n",
    "### 2. <a href=\"#Python\">Python</a>\n",
    " 2.1.  <a href=\"#Метрики\">Метрики</a>  \n",
    " 2.2.  <a href=\"#Графики\">Графики</a>\n",
    "\n",
    "*****"
   ]
  },
  {
   "cell_type": "markdown",
   "id": "04e4b3c5",
   "metadata": {},
   "source": [
    "### 1. A/B-тестирование <a name =\"A/B-тестирование\"></a>"
   ]
  },
  {
   "cell_type": "markdown",
   "id": "f5b6503b",
   "metadata": {},
   "source": [
    "#### 1.1. Загрузка данных и ознакомление, подготовка объединенных данных <a name =\"Загрузка данных и ознакомление, подготовка объединенных данных\"></a>"
   ]
  },
  {
   "cell_type": "code",
   "execution_count": 289,
   "id": "b4271c66",
   "metadata": {},
   "outputs": [],
   "source": [
    "import pandas as pd\n",
    "import numpy as np\n",
    "import matplotlib.pyplot as plt\n",
    "import seaborn as sns\n",
    "\n",
    "import scipy\n",
    "from scipy.stats import norm\n",
    "from scipy.stats import chi2_contingency\n",
    "from urllib.parse import urlencode\n",
    "\n",
    "import requests\n",
    "from tqdm.auto import tqdm\n",
    "import pingouin as pg\n",
    "import pandahouse as ph\n",
    "import warnings"
   ]
  },
  {
   "cell_type": "code",
   "execution_count": 290,
   "id": "9835f31b",
   "metadata": {},
   "outputs": [],
   "source": [
    "warnings.filterwarnings(\"ignore\", category=DeprecationWarning) "
   ]
  },
  {
   "cell_type": "code",
   "execution_count": 291,
   "id": "1999662a",
   "metadata": {},
   "outputs": [],
   "source": [
    "sns.set_palette(\"pastel\")\n",
    "sns.set_style('whitegrid')"
   ]
  },
  {
   "cell_type": "markdown",
   "id": "1c1151e1",
   "metadata": {},
   "source": [
    "Используя api, считаем файлы по ссылкам на Яндекс диск и изучим имеющиеся данные."
   ]
  },
  {
   "cell_type": "code",
   "execution_count": 292,
   "id": "d4e7fb93",
   "metadata": {},
   "outputs": [],
   "source": [
    " def get_df_by_yandex_link(yandex_link):\n",
    "     base_url     = 'https://cloud-api.yandex.net/v1/disk/public/resources/download?'  \n",
    "     public_key   = yandex_link    \n",
    "     final_url    = base_url + urlencode(dict(public_key=public_key))                 \n",
    "     response     = requests.get(final_url) \n",
    "     download_url = response.json()['href']                                        \n",
    "     return pd.read_csv(download_url, sep=\";|,\", engine ='python')    "
   ]
  },
  {
   "cell_type": "code",
   "execution_count": 293,
   "id": "6b517647",
   "metadata": {},
   "outputs": [],
   "source": [
    " df_groups          = get_df_by_yandex_link('https://disk.yandex.ru/d/UhyYx41rTt3clQ')\n",
    " df_groups_add      = get_df_by_yandex_link('https://disk.yandex.ru/d/5Kxrz02m3IBUwQ') \n",
    " df_active_students = get_df_by_yandex_link('https://disk.yandex.ru/d/Tbs44Bm6H_FwFQ') \n",
    " df_checks          = get_df_by_yandex_link('https://disk.yandex.ru/d/pH1q-VqcxXjsVA') "
   ]
  },
  {
   "cell_type": "markdown",
   "id": "9ae6cb35",
   "metadata": {},
   "source": [
    "*df_groups           | - файл с информацией о принадлежности пользователя к контрольной (A) или экспериментальной (B) группе  \n",
    "  df_groups_add      |- дополнительный файл с пользователями, который прислали спустя 2 дня после передачи данных   \n",
    "df_active_students |- файл с информацией о пользователях, которые зашли на платформу в дни проведения эксперимента  \n",
    "  df_checks        |  - файл с информацией об оплатах пользователей в дни проведения эксперимента*"
   ]
  },
  {
   "cell_type": "markdown",
   "id": "67e27991",
   "metadata": {},
   "source": [
    "Посмотрим на содержание файлов."
   ]
  },
  {
   "cell_type": "code",
   "execution_count": 294,
   "id": "f85d8938",
   "metadata": {},
   "outputs": [],
   "source": [
    "dfs = [df_groups, df_groups_add, df_active_students, df_checks]"
   ]
  },
  {
   "cell_type": "code",
   "execution_count": 295,
   "id": "ec31a200",
   "metadata": {},
   "outputs": [
    {
     "name": "stdout",
     "output_type": "stream",
     "text": [
      "     id grp\n",
      "0  1489   B\n",
      "1  1627   A\n",
      "        id grp\n",
      "0  5694584   B\n",
      "1  5694830   B\n",
      "   \"student_id\"\n",
      "0        581585\n",
      "1       5723133\n",
      "   \"student_id\"  \"rev\"\n",
      "0          1627  990.0\n",
      "1          3185  690.0\n"
     ]
    }
   ],
   "source": [
    "for df in dfs:\n",
    "    print (df.head(2))"
   ]
  },
  {
   "cell_type": "markdown",
   "id": "4c81f791",
   "metadata": {},
   "source": [
    "Посмотрим на размер файлов."
   ]
  },
  {
   "cell_type": "code",
   "execution_count": 296,
   "id": "9a09fc9c",
   "metadata": {},
   "outputs": [
    {
     "name": "stdout",
     "output_type": "stream",
     "text": [
      "(74484, 2)\n",
      "(92, 2)\n",
      "(8341, 1)\n",
      "(541, 2)\n"
     ]
    }
   ],
   "source": [
    "for df in dfs:\n",
    "    print (df.shape)"
   ]
  },
  {
   "cell_type": "markdown",
   "id": "d2fa9eee",
   "metadata": {},
   "source": [
    "Предобработаем данные.\n",
    "Переименуем столбцы в файлах df_active_students и df_checks."
   ]
  },
  {
   "cell_type": "code",
   "execution_count": 297,
   "id": "5023dd99",
   "metadata": {},
   "outputs": [],
   "source": [
    "df_active_students = df_active_students.rename(columns={'\"student_id\"': 'id'})\n",
    "df_checks          = df_checks.rename(columns=({'\"student_id\"': 'id','\"rev\"': 'revenue'}))"
   ]
  },
  {
   "cell_type": "markdown",
   "id": "21b27f31",
   "metadata": {},
   "source": [
    "Сравним df_groups и df_groups_add - убедимся, что id из дополнительного списка действительно не пересекаются с id из первоначального списка."
   ]
  },
  {
   "cell_type": "code",
   "execution_count": 298,
   "id": "3c46d338",
   "metadata": {},
   "outputs": [],
   "source": [
    "df_groups_updated = df_groups.merge(df_groups_add, how='outer', on='id', suffixes=['', '_new'], indicator=True)"
   ]
  },
  {
   "cell_type": "code",
   "execution_count": 299,
   "id": "f4368211",
   "metadata": {},
   "outputs": [
    {
     "data": {
      "text/html": [
       "<div>\n",
       "<style scoped>\n",
       "    .dataframe tbody tr th:only-of-type {\n",
       "        vertical-align: middle;\n",
       "    }\n",
       "\n",
       "    .dataframe tbody tr th {\n",
       "        vertical-align: top;\n",
       "    }\n",
       "\n",
       "    .dataframe thead th {\n",
       "        text-align: right;\n",
       "    }\n",
       "</style>\n",
       "<table border=\"1\" class=\"dataframe\">\n",
       "  <thead>\n",
       "    <tr style=\"text-align: right;\">\n",
       "      <th></th>\n",
       "      <th>id</th>\n",
       "      <th>grp</th>\n",
       "      <th>grp_new</th>\n",
       "      <th>_merge</th>\n",
       "    </tr>\n",
       "  </thead>\n",
       "  <tbody>\n",
       "    <tr>\n",
       "      <th>0</th>\n",
       "      <td>1489</td>\n",
       "      <td>B</td>\n",
       "      <td>NaN</td>\n",
       "      <td>left_only</td>\n",
       "    </tr>\n",
       "    <tr>\n",
       "      <th>1</th>\n",
       "      <td>1627</td>\n",
       "      <td>A</td>\n",
       "      <td>NaN</td>\n",
       "      <td>left_only</td>\n",
       "    </tr>\n",
       "  </tbody>\n",
       "</table>\n",
       "</div>"
      ],
      "text/plain": [
       "     id grp grp_new     _merge\n",
       "0  1489   B     NaN  left_only\n",
       "1  1627   A     NaN  left_only"
      ]
     },
     "execution_count": 299,
     "metadata": {},
     "output_type": "execute_result"
    }
   ],
   "source": [
    "df_groups_updated.head(2)"
   ]
  },
  {
   "cell_type": "code",
   "execution_count": 300,
   "id": "4c0ee094",
   "metadata": {},
   "outputs": [
    {
     "data": {
      "text/plain": [
       "left_only     74484\n",
       "right_only       92\n",
       "both              0\n",
       "Name: _merge, dtype: int64"
      ]
     },
     "execution_count": 300,
     "metadata": {},
     "output_type": "execute_result"
    }
   ],
   "source": [
    "df_groups_updated['_merge'].value_counts()"
   ]
  },
  {
   "cell_type": "markdown",
   "id": "6a5bc71d",
   "metadata": {},
   "source": [
    "Действительно, все id уникальные, поэтому мы можем объединим датафреймы в один df_groups_final, получим общий список пользователей, разделенных на группы."
   ]
  },
  {
   "cell_type": "code",
   "execution_count": 301,
   "id": "131d0ff4",
   "metadata": {},
   "outputs": [],
   "source": [
    "df_groups_final = pd.concat([df_groups, df_groups_add],ignore_index=True)"
   ]
  },
  {
   "cell_type": "code",
   "execution_count": 302,
   "id": "77e9e7bf",
   "metadata": {},
   "outputs": [
    {
     "data": {
      "text/plain": [
       "(74576, 2)"
      ]
     },
     "execution_count": 302,
     "metadata": {},
     "output_type": "execute_result"
    }
   ],
   "source": [
    "df_groups_final.shape"
   ]
  },
  {
   "cell_type": "markdown",
   "id": "7f923f85",
   "metadata": {},
   "source": [
    "Далее в список пользователей с информацией о группах добавим информацию о студентах, которые заходили в день эксперимента.\n",
    "Мы видим, что из контрольной группы 13 тыс. студентов не заходили на платформу в день эксперимента..."
   ]
  },
  {
   "cell_type": "code",
   "execution_count": 303,
   "id": "462814e4",
   "metadata": {},
   "outputs": [],
   "source": [
    "df_groups_final['active_stud'] = df_groups_final['id'].isin(df_active_students['id'])"
   ]
  },
  {
   "cell_type": "code",
   "execution_count": 304,
   "id": "9071c563",
   "metadata": {},
   "outputs": [
    {
     "data": {
      "text/html": [
       "<div>\n",
       "<style scoped>\n",
       "    .dataframe tbody tr th:only-of-type {\n",
       "        vertical-align: middle;\n",
       "    }\n",
       "\n",
       "    .dataframe tbody tr th {\n",
       "        vertical-align: top;\n",
       "    }\n",
       "\n",
       "    .dataframe thead th {\n",
       "        text-align: right;\n",
       "    }\n",
       "</style>\n",
       "<table border=\"1\" class=\"dataframe\">\n",
       "  <thead>\n",
       "    <tr style=\"text-align: right;\">\n",
       "      <th></th>\n",
       "      <th></th>\n",
       "      <th>id</th>\n",
       "    </tr>\n",
       "    <tr>\n",
       "      <th>active_stud</th>\n",
       "      <th>grp</th>\n",
       "      <th></th>\n",
       "    </tr>\n",
       "  </thead>\n",
       "  <tbody>\n",
       "    <tr>\n",
       "      <th rowspan=\"2\" valign=\"top\">False</th>\n",
       "      <th>A</th>\n",
       "      <td>13155</td>\n",
       "    </tr>\n",
       "    <tr>\n",
       "      <th>B</th>\n",
       "      <td>53080</td>\n",
       "    </tr>\n",
       "    <tr>\n",
       "      <th rowspan=\"2\" valign=\"top\">True</th>\n",
       "      <th>A</th>\n",
       "      <td>1538</td>\n",
       "    </tr>\n",
       "    <tr>\n",
       "      <th>B</th>\n",
       "      <td>6803</td>\n",
       "    </tr>\n",
       "  </tbody>\n",
       "</table>\n",
       "</div>"
      ],
      "text/plain": [
       "                    id\n",
       "active_stud grp       \n",
       "False       A    13155\n",
       "            B    53080\n",
       "True        A     1538\n",
       "            B     6803"
      ]
     },
     "execution_count": 304,
     "metadata": {},
     "output_type": "execute_result"
    }
   ],
   "source": [
    "df_groups_final.groupby(['active_stud','grp']).agg({'id': 'count'})"
   ]
  },
  {
   "cell_type": "markdown",
   "id": "740e1dbe",
   "metadata": {},
   "source": [
    "Добавим в df_final информацию о том, кто из пользователей произвел оплату в день эксперимента."
   ]
  },
  {
   "cell_type": "code",
   "execution_count": 305,
   "id": "78bcfcce",
   "metadata": {},
   "outputs": [],
   "source": [
    "df_final = df_groups_final.merge(df_checks, how='left', on='id')\\\n",
    "                             .fillna({'revenue': 0})                                "
   ]
  },
  {
   "cell_type": "code",
   "execution_count": 306,
   "id": "cc30bb02",
   "metadata": {},
   "outputs": [],
   "source": [
    "df_final['purchase'] = np.where(df_final['revenue'] <= 0, 0, 1).astype(int)"
   ]
  },
  {
   "cell_type": "code",
   "execution_count": 307,
   "id": "a4911d1d",
   "metadata": {},
   "outputs": [
    {
     "data": {
      "text/html": [
       "<div>\n",
       "<style scoped>\n",
       "    .dataframe tbody tr th:only-of-type {\n",
       "        vertical-align: middle;\n",
       "    }\n",
       "\n",
       "    .dataframe tbody tr th {\n",
       "        vertical-align: top;\n",
       "    }\n",
       "\n",
       "    .dataframe thead th {\n",
       "        text-align: right;\n",
       "    }\n",
       "</style>\n",
       "<table border=\"1\" class=\"dataframe\">\n",
       "  <thead>\n",
       "    <tr style=\"text-align: right;\">\n",
       "      <th></th>\n",
       "      <th>id</th>\n",
       "      <th>grp</th>\n",
       "      <th>active_stud</th>\n",
       "      <th>revenue</th>\n",
       "      <th>purchase</th>\n",
       "    </tr>\n",
       "  </thead>\n",
       "  <tbody>\n",
       "    <tr>\n",
       "      <th>0</th>\n",
       "      <td>1489</td>\n",
       "      <td>B</td>\n",
       "      <td>False</td>\n",
       "      <td>0.0</td>\n",
       "      <td>0</td>\n",
       "    </tr>\n",
       "    <tr>\n",
       "      <th>1</th>\n",
       "      <td>1627</td>\n",
       "      <td>A</td>\n",
       "      <td>True</td>\n",
       "      <td>990.0</td>\n",
       "      <td>1</td>\n",
       "    </tr>\n",
       "  </tbody>\n",
       "</table>\n",
       "</div>"
      ],
      "text/plain": [
       "     id grp  active_stud  revenue  purchase\n",
       "0  1489   B        False      0.0         0\n",
       "1  1627   A         True    990.0         1"
      ]
     },
     "execution_count": 307,
     "metadata": {},
     "output_type": "execute_result"
    }
   ],
   "source": [
    "df_final.head(2)"
   ]
  },
  {
   "cell_type": "markdown",
   "id": "d3485ccc",
   "metadata": {},
   "source": [
    "Сгруппируем данные о пользователях в зависимости от групп и активности пользователей."
   ]
  },
  {
   "cell_type": "code",
   "execution_count": 308,
   "id": "1df15446",
   "metadata": {},
   "outputs": [
    {
     "data": {
      "text/html": [
       "<div>\n",
       "<style scoped>\n",
       "    .dataframe tbody tr th:only-of-type {\n",
       "        vertical-align: middle;\n",
       "    }\n",
       "\n",
       "    .dataframe tbody tr th {\n",
       "        vertical-align: top;\n",
       "    }\n",
       "\n",
       "    .dataframe thead th {\n",
       "        text-align: right;\n",
       "    }\n",
       "</style>\n",
       "<table border=\"1\" class=\"dataframe\">\n",
       "  <thead>\n",
       "    <tr style=\"text-align: right;\">\n",
       "      <th></th>\n",
       "      <th></th>\n",
       "      <th>id</th>\n",
       "    </tr>\n",
       "    <tr>\n",
       "      <th>grp</th>\n",
       "      <th>active_stud</th>\n",
       "      <th></th>\n",
       "    </tr>\n",
       "  </thead>\n",
       "  <tbody>\n",
       "    <tr>\n",
       "      <th rowspan=\"2\" valign=\"top\">A</th>\n",
       "      <th>False</th>\n",
       "      <td>13155</td>\n",
       "    </tr>\n",
       "    <tr>\n",
       "      <th>True</th>\n",
       "      <td>1538</td>\n",
       "    </tr>\n",
       "    <tr>\n",
       "      <th rowspan=\"2\" valign=\"top\">B</th>\n",
       "      <th>False</th>\n",
       "      <td>53080</td>\n",
       "    </tr>\n",
       "    <tr>\n",
       "      <th>True</th>\n",
       "      <td>6803</td>\n",
       "    </tr>\n",
       "  </tbody>\n",
       "</table>\n",
       "</div>"
      ],
      "text/plain": [
       "                    id\n",
       "grp active_stud       \n",
       "A   False        13155\n",
       "    True          1538\n",
       "B   False        53080\n",
       "    True          6803"
      ]
     },
     "execution_count": 308,
     "metadata": {},
     "output_type": "execute_result"
    }
   ],
   "source": [
    "df_final.groupby(['grp','active_stud']).agg({'id': 'count'})"
   ]
  },
  {
   "cell_type": "markdown",
   "id": "fa86d12c",
   "metadata": {},
   "source": [
    "Для целей проведения теста из группы А мы оставим всех пользователей (не только тех, которые заходили в день эксперимента, так как мы предполагаем, что на их поведение проведение эксперимента не влияет).\n",
    "Из группы B мы оставим только тех пользователей, которые заходили в день эксперимента.\n",
    "Посмотрим, что получится."
   ]
  },
  {
   "cell_type": "code",
   "execution_count": 309,
   "id": "ba236407",
   "metadata": {},
   "outputs": [],
   "source": [
    "df_for_test = pd.concat([\n",
    "    df_final.query('grp == \"A\"'),\n",
    "    df_final.query('grp == \"B\" & active_stud == True')\n",
    "])"
   ]
  },
  {
   "cell_type": "code",
   "execution_count": 310,
   "id": "b54ddd0a",
   "metadata": {},
   "outputs": [
    {
     "data": {
      "text/html": [
       "<div>\n",
       "<style scoped>\n",
       "    .dataframe tbody tr th:only-of-type {\n",
       "        vertical-align: middle;\n",
       "    }\n",
       "\n",
       "    .dataframe tbody tr th {\n",
       "        vertical-align: top;\n",
       "    }\n",
       "\n",
       "    .dataframe thead th {\n",
       "        text-align: right;\n",
       "    }\n",
       "</style>\n",
       "<table border=\"1\" class=\"dataframe\">\n",
       "  <thead>\n",
       "    <tr style=\"text-align: right;\">\n",
       "      <th></th>\n",
       "      <th>id</th>\n",
       "      <th>grp</th>\n",
       "      <th>active_stud</th>\n",
       "      <th>revenue</th>\n",
       "      <th>purchase</th>\n",
       "    </tr>\n",
       "  </thead>\n",
       "  <tbody>\n",
       "    <tr>\n",
       "      <th>1</th>\n",
       "      <td>1627</td>\n",
       "      <td>A</td>\n",
       "      <td>True</td>\n",
       "      <td>990.0</td>\n",
       "      <td>1</td>\n",
       "    </tr>\n",
       "    <tr>\n",
       "      <th>4</th>\n",
       "      <td>1794</td>\n",
       "      <td>A</td>\n",
       "      <td>False</td>\n",
       "      <td>0.0</td>\n",
       "      <td>0</td>\n",
       "    </tr>\n",
       "  </tbody>\n",
       "</table>\n",
       "</div>"
      ],
      "text/plain": [
       "     id grp  active_stud  revenue  purchase\n",
       "1  1627   A         True    990.0         1\n",
       "4  1794   A        False      0.0         0"
      ]
     },
     "execution_count": 310,
     "metadata": {},
     "output_type": "execute_result"
    }
   ],
   "source": [
    "df_for_test.head(2)"
   ]
  },
  {
   "cell_type": "markdown",
   "id": "92f1ee23",
   "metadata": {},
   "source": [
    "Убедимся в корректности объединения. "
   ]
  },
  {
   "cell_type": "code",
   "execution_count": 311,
   "id": "adad19b1",
   "metadata": {},
   "outputs": [
    {
     "data": {
      "text/plain": [
       "(14693, 5)"
      ]
     },
     "execution_count": 311,
     "metadata": {},
     "output_type": "execute_result"
    }
   ],
   "source": [
    "group_a.shape"
   ]
  },
  {
   "cell_type": "code",
   "execution_count": 312,
   "id": "2bd66b30",
   "metadata": {},
   "outputs": [
    {
     "data": {
      "text/plain": [
       "(6803, 5)"
      ]
     },
     "execution_count": 312,
     "metadata": {},
     "output_type": "execute_result"
    }
   ],
   "source": [
    "group_b.shape"
   ]
  },
  {
   "cell_type": "code",
   "execution_count": 313,
   "id": "a37ef32e",
   "metadata": {},
   "outputs": [
    {
     "data": {
      "text/plain": [
       "21496"
      ]
     },
     "execution_count": 313,
     "metadata": {},
     "output_type": "execute_result"
    }
   ],
   "source": [
    "14693+6803"
   ]
  },
  {
   "cell_type": "markdown",
   "id": "3882d736",
   "metadata": {},
   "source": [
    "Структура полученного датасета:"
   ]
  },
  {
   "cell_type": "code",
   "execution_count": 314,
   "id": "fae6055f",
   "metadata": {},
   "outputs": [
    {
     "data": {
      "text/html": [
       "<div>\n",
       "<style scoped>\n",
       "    .dataframe tbody tr th:only-of-type {\n",
       "        vertical-align: middle;\n",
       "    }\n",
       "\n",
       "    .dataframe tbody tr th {\n",
       "        vertical-align: top;\n",
       "    }\n",
       "\n",
       "    .dataframe thead th {\n",
       "        text-align: right;\n",
       "    }\n",
       "</style>\n",
       "<table border=\"1\" class=\"dataframe\">\n",
       "  <thead>\n",
       "    <tr style=\"text-align: right;\">\n",
       "      <th></th>\n",
       "      <th></th>\n",
       "      <th></th>\n",
       "      <th>id</th>\n",
       "    </tr>\n",
       "    <tr>\n",
       "      <th>grp</th>\n",
       "      <th>active_stud</th>\n",
       "      <th>purchase</th>\n",
       "      <th></th>\n",
       "    </tr>\n",
       "  </thead>\n",
       "  <tbody>\n",
       "    <tr>\n",
       "      <th rowspan=\"4\" valign=\"top\">A</th>\n",
       "      <th rowspan=\"2\" valign=\"top\">False</th>\n",
       "      <th>0</th>\n",
       "      <td>13126</td>\n",
       "    </tr>\n",
       "    <tr>\n",
       "      <th>1</th>\n",
       "      <td>29</td>\n",
       "    </tr>\n",
       "    <tr>\n",
       "      <th rowspan=\"2\" valign=\"top\">True</th>\n",
       "      <th>0</th>\n",
       "      <td>1460</td>\n",
       "    </tr>\n",
       "    <tr>\n",
       "      <th>1</th>\n",
       "      <td>78</td>\n",
       "    </tr>\n",
       "    <tr>\n",
       "      <th rowspan=\"2\" valign=\"top\">B</th>\n",
       "      <th rowspan=\"2\" valign=\"top\">True</th>\n",
       "      <th>0</th>\n",
       "      <td>6489</td>\n",
       "    </tr>\n",
       "    <tr>\n",
       "      <th>1</th>\n",
       "      <td>314</td>\n",
       "    </tr>\n",
       "  </tbody>\n",
       "</table>\n",
       "</div>"
      ],
      "text/plain": [
       "                             id\n",
       "grp active_stud purchase       \n",
       "A   False       0         13126\n",
       "                1            29\n",
       "    True        0          1460\n",
       "                1            78\n",
       "B   True        0          6489\n",
       "                1           314"
      ]
     },
     "execution_count": 314,
     "metadata": {},
     "output_type": "execute_result"
    }
   ],
   "source": [
    "df_for_test.groupby(['grp', 'active_stud', 'purchase']).agg({'id': 'count'})"
   ]
  },
  {
   "cell_type": "markdown",
   "id": "27f334e1",
   "metadata": {},
   "source": [
    "Сравним средние чеки по группам - мы видим, что разница между группами А и В подозрительно большая (6 и 58).   \n",
    "Очень сильно понижают показатель данные неактивных в день эксперимента пользователей группы А.  "
   ]
  },
  {
   "cell_type": "code",
   "execution_count": 315,
   "id": "89840319",
   "metadata": {},
   "outputs": [
    {
     "data": {
      "text/plain": [
       "6.268018784455183"
      ]
     },
     "execution_count": 315,
     "metadata": {},
     "output_type": "execute_result"
    }
   ],
   "source": [
    "#Средний чек по всей группе А\n",
    "df_for_test.revenue[df_for_test.grp == 'A'].sum()/df_for_test.revenue[df_for_test.grp == 'A'].count()"
   ]
  },
  {
   "cell_type": "code",
   "execution_count": 316,
   "id": "67708c5d",
   "metadata": {},
   "outputs": [
    {
     "data": {
      "text/plain": [
       "58.058798103777754"
      ]
     },
     "execution_count": 316,
     "metadata": {},
     "output_type": "execute_result"
    }
   ],
   "source": [
    "#Средний чек по всей группе B\n",
    "df_for_test.revenue[df_for_test.grp == 'B'].sum()/df_for_test.revenue[df_for_test.grp == 'B'].count()"
   ]
  },
  {
   "cell_type": "code",
   "execution_count": 317,
   "id": "02dc4897",
   "metadata": {},
   "outputs": [
    {
     "data": {
      "text/plain": [
       "1.4652983656404408"
      ]
     },
     "execution_count": 317,
     "metadata": {},
     "output_type": "execute_result"
    }
   ],
   "source": [
    "# Средний чек по группе А где только пассивные пользователи\n",
    "df_for_test.query('active_stud == False & grp == \"A\"').revenue.sum()/   \\\n",
    "df_for_test.query('active_stud == False & grp == \"A\"').revenue.count()"
   ]
  },
  {
   "cell_type": "code",
   "execution_count": 318,
   "id": "7ebc418b",
   "metadata": {},
   "outputs": [
    {
     "data": {
      "text/plain": [
       "47.34720416124838"
      ]
     },
     "execution_count": 318,
     "metadata": {},
     "output_type": "execute_result"
    }
   ],
   "source": [
    "# Средний чек по группе А где только активные пользователи\n",
    "df_for_test.query('active_stud == True & grp == \"A\"').revenue.sum()/   \\\n",
    "df_for_test.query('active_stud == True & grp == \"A\"').revenue.count()"
   ]
  },
  {
   "cell_type": "markdown",
   "id": "0a41358d",
   "metadata": {},
   "source": [
    "Изменим наш подход к формированию датасета в части пользователей группы А: оставим в ней всех активных пользователей, а также неактивных, но по которым прошли оплаты в день эксперимента (29 человек). \n",
    "Мы считаем это логичным, так как оплаты по этим пользователям являются косвенным свидетельством их активности на платформе (возможно настроен автоплатеж). Из группы B мы также оставим только тех пользователей, которые заходили в день эксперимента."
   ]
  },
  {
   "cell_type": "code",
   "execution_count": 319,
   "id": "c8b6e424",
   "metadata": {},
   "outputs": [],
   "source": [
    "df_for_test_new = pd.concat([\n",
    "    df_final.query('grp == \"A\" & purchase == 1 & active_stud == False'),\n",
    "    df_final.query('grp == \"A\" & active_stud == True'),\n",
    "    df_final.query('grp == \"B\" & active_stud == True')\n",
    "])\n",
    "df_for_test_new['revenue'] = df_for_test_new['revenue'].astype('int')"
   ]
  },
  {
   "cell_type": "markdown",
   "id": "72eae136",
   "metadata": {},
   "source": [
    "Структура обновленного датасета:"
   ]
  },
  {
   "cell_type": "code",
   "execution_count": 320,
   "id": "0110c573",
   "metadata": {},
   "outputs": [
    {
     "data": {
      "text/html": [
       "<div>\n",
       "<style scoped>\n",
       "    .dataframe tbody tr th:only-of-type {\n",
       "        vertical-align: middle;\n",
       "    }\n",
       "\n",
       "    .dataframe tbody tr th {\n",
       "        vertical-align: top;\n",
       "    }\n",
       "\n",
       "    .dataframe thead th {\n",
       "        text-align: right;\n",
       "    }\n",
       "</style>\n",
       "<table border=\"1\" class=\"dataframe\">\n",
       "  <thead>\n",
       "    <tr style=\"text-align: right;\">\n",
       "      <th></th>\n",
       "      <th></th>\n",
       "      <th></th>\n",
       "      <th>id</th>\n",
       "    </tr>\n",
       "    <tr>\n",
       "      <th>grp</th>\n",
       "      <th>active_stud</th>\n",
       "      <th>purchase</th>\n",
       "      <th></th>\n",
       "    </tr>\n",
       "  </thead>\n",
       "  <tbody>\n",
       "    <tr>\n",
       "      <th rowspan=\"3\" valign=\"top\">A</th>\n",
       "      <th>False</th>\n",
       "      <th>1</th>\n",
       "      <td>29</td>\n",
       "    </tr>\n",
       "    <tr>\n",
       "      <th rowspan=\"2\" valign=\"top\">True</th>\n",
       "      <th>0</th>\n",
       "      <td>1460</td>\n",
       "    </tr>\n",
       "    <tr>\n",
       "      <th>1</th>\n",
       "      <td>78</td>\n",
       "    </tr>\n",
       "    <tr>\n",
       "      <th rowspan=\"2\" valign=\"top\">B</th>\n",
       "      <th rowspan=\"2\" valign=\"top\">True</th>\n",
       "      <th>0</th>\n",
       "      <td>6489</td>\n",
       "    </tr>\n",
       "    <tr>\n",
       "      <th>1</th>\n",
       "      <td>314</td>\n",
       "    </tr>\n",
       "  </tbody>\n",
       "</table>\n",
       "</div>"
      ],
      "text/plain": [
       "                            id\n",
       "grp active_stud purchase      \n",
       "A   False       1           29\n",
       "    True        0         1460\n",
       "                1           78\n",
       "B   True        0         6489\n",
       "                1          314"
      ]
     },
     "execution_count": 320,
     "metadata": {},
     "output_type": "execute_result"
    }
   ],
   "source": [
    "df_for_test_new.groupby(['grp', 'active_stud', 'purchase']).agg({'id': 'count'})"
   ]
  },
  {
   "cell_type": "code",
   "execution_count": 321,
   "id": "23e367a3",
   "metadata": {},
   "outputs": [
    {
     "data": {
      "text/plain": [
       "58.77217613273771"
      ]
     },
     "execution_count": 321,
     "metadata": {},
     "output_type": "execute_result"
    }
   ],
   "source": [
    "#Обновленный средний чек по всей группе А\n",
    "df_for_test_new.revenue[df_for_test_new.grp == 'A'].sum()/df_for_test_new.revenue[df_for_test_new.grp == 'A'].count()"
   ]
  },
  {
   "cell_type": "markdown",
   "id": "42ecab23",
   "metadata": {},
   "source": [
    "### 2. Исследовательский анализ, проверка нормальности распределения метрик: ARPU и ARPPU <a name =\"Исследовательский анализ, проверка нормальности распределения метрик: ARPU и ARPPU\"></a>"
   ]
  },
  {
   "cell_type": "markdown",
   "id": "e3adbb0b",
   "metadata": {},
   "source": [
    "Перед проведением А/B-тестирования необходимо убедиться в том, что результатам эксперимента можно будет доверять.  \n",
    "Для этого необходимо исследовать данные, которые будут лежать в его основе, выявить их особенности и учесть их при выборе статистического критерия. "
   ]
  },
  {
   "cell_type": "markdown",
   "id": "3ded3284",
   "metadata": {},
   "source": [
    "У нас недостаточно данных, для того, чтобы оценить однородность выборки.  \n",
    "Также мы не знаем размер генеральной совокупности, у нас есть только выборка."
   ]
  },
  {
   "cell_type": "markdown",
   "id": "91e5815f",
   "metadata": {},
   "source": [
    "Сравним количество пользователей в группах А и В.  \n",
    "Количество пользователей в группах различается: А (контроль) - 1.5 тыс. и  В (целевая) - 6.8 тыс. \n",
    "Мы не ожидаем, что данная разница повлияет на результаты теста, если между группами нет различий.\n",
    "Разделение на тестовые группы обычно производится таким образом, чтобы минимизировать затраты и быстрее получить результат. Если мы готовы внедрить новый механизм оплаты на 80% пользователей, то так за то же самое время мы соберем больше данных, чем если бы пользователи были разделены между группами 50/50."
   ]
  },
  {
   "cell_type": "code",
   "execution_count": 322,
   "id": "3baadf93",
   "metadata": {},
   "outputs": [
    {
     "data": {
      "text/html": [
       "<div>\n",
       "<style scoped>\n",
       "    .dataframe tbody tr th:only-of-type {\n",
       "        vertical-align: middle;\n",
       "    }\n",
       "\n",
       "    .dataframe tbody tr th {\n",
       "        vertical-align: top;\n",
       "    }\n",
       "\n",
       "    .dataframe thead th {\n",
       "        text-align: right;\n",
       "    }\n",
       "</style>\n",
       "<table border=\"1\" class=\"dataframe\">\n",
       "  <thead>\n",
       "    <tr style=\"text-align: right;\">\n",
       "      <th></th>\n",
       "      <th>id</th>\n",
       "    </tr>\n",
       "    <tr>\n",
       "      <th>grp</th>\n",
       "      <th></th>\n",
       "    </tr>\n",
       "  </thead>\n",
       "  <tbody>\n",
       "    <tr>\n",
       "      <th>A</th>\n",
       "      <td>1567</td>\n",
       "    </tr>\n",
       "    <tr>\n",
       "      <th>B</th>\n",
       "      <td>6803</td>\n",
       "    </tr>\n",
       "  </tbody>\n",
       "</table>\n",
       "</div>"
      ],
      "text/plain": [
       "       id\n",
       "grp      \n",
       "A    1567\n",
       "B    6803"
      ]
     },
     "execution_count": 322,
     "metadata": {},
     "output_type": "execute_result"
    }
   ],
   "source": [
    "df_for_test_new.groupby('grp').agg({'id': 'count'})"
   ]
  },
  {
   "cell_type": "markdown",
   "id": "88f5e1b7",
   "metadata": {},
   "source": [
    "Убедимся, что группы одновременно проводимых тестов не пересекаются.  \n",
    "Это действительно так - количество уникальных id пользователей соответствует общему количеству id в таблице.  \n",
    "Каждому пользователю доступна только одна опция оплаты."
   ]
  },
  {
   "cell_type": "code",
   "execution_count": 323,
   "id": "b831bdde",
   "metadata": {},
   "outputs": [
    {
     "data": {
      "text/plain": [
       "id             8370\n",
       "grp               2\n",
       "active_stud       2\n",
       "revenue          38\n",
       "purchase          2\n",
       "dtype: int64"
      ]
     },
     "execution_count": 323,
     "metadata": {},
     "output_type": "execute_result"
    }
   ],
   "source": [
    "df_for_test_new.nunique()"
   ]
  },
  {
   "cell_type": "code",
   "execution_count": 324,
   "id": "c70f6a10",
   "metadata": {},
   "outputs": [
    {
     "data": {
      "text/plain": [
       "(8370, 5)"
      ]
     },
     "execution_count": 324,
     "metadata": {},
     "output_type": "execute_result"
    }
   ],
   "source": [
    "df_for_test_new.shape"
   ]
  },
  {
   "cell_type": "markdown",
   "id": "c86a25ed",
   "metadata": {},
   "source": [
    "Чтобы оценить эффект от внедрения новой механики оплаты услуг на сайте, основываясь на имеющихся данных, будем использовать три ключевые метрики:  \n",
    "1. CR (конверсия)  \n",
    "2. ARPU (средняя выручка на пользователя)  \n",
    "3. ARPPU (средняя выручка на платящего пользователя)\n",
    "    "
   ]
  },
  {
   "cell_type": "markdown",
   "id": "a4ba77c6",
   "metadata": {},
   "source": [
    "1. CR - отношение пользователей, совершивших оплату к общему количеству пользователей, посетивших сайт во время эксперимента.   \n",
    "Посмотрим, как данная метрика отличается между группами.  \n",
    "CR между группами: контрольная группа - 6.8%, целевая - 4.6%.  \n",
    "То есть с введением новой механики оплаты CR сократился."
   ]
  },
  {
   "cell_type": "code",
   "execution_count": 325,
   "id": "15f59380",
   "metadata": {},
   "outputs": [
    {
     "data": {
      "text/plain": [
       "grp\n",
       "A    0.068283\n",
       "B    0.046156\n",
       "Name: purchase, dtype: float64"
      ]
     },
     "execution_count": 325,
     "metadata": {},
     "output_type": "execute_result"
    }
   ],
   "source": [
    "CR = df_for_test_new.groupby('grp')['purchase'].mean()\n",
    "CR"
   ]
  },
  {
   "cell_type": "markdown",
   "id": "3878292c",
   "metadata": {},
   "source": [
    "Конверсия в покупку - метрика, рассчитываемая на основе категориальных переменных (фактах совершения покупки), характеризуемых распределением Бернулли, поэтому проверку нормальности распределения для CR мы проводить не будем."
   ]
  },
  {
   "cell_type": "markdown",
   "id": "476d220b",
   "metadata": {},
   "source": [
    "2. ARPU (средняя выручка на пользователя)  "
   ]
  },
  {
   "cell_type": "markdown",
   "id": "292aca5e",
   "metadata": {},
   "source": [
    "Рассчитаем ARPU по группам."
   ]
  },
  {
   "cell_type": "code",
   "execution_count": 326,
   "id": "25c6c1dd",
   "metadata": {},
   "outputs": [
    {
     "data": {
      "text/plain": [
       "grp\n",
       "A    58.772176\n",
       "B    58.058798\n",
       "Name: revenue, dtype: float64"
      ]
     },
     "execution_count": 326,
     "metadata": {},
     "output_type": "execute_result"
    }
   ],
   "source": [
    "ARPU = df_for_test_new.groupby('grp')['revenue'].mean()\n",
    "ARPU"
   ]
  },
  {
   "cell_type": "markdown",
   "id": "46fd6285",
   "metadata": {},
   "source": [
    "Из описательной статистики мы видим, что в целом, распределения похожи между собой.  "
   ]
  },
  {
   "cell_type": "code",
   "execution_count": 327,
   "id": "e863f556",
   "metadata": {},
   "outputs": [
    {
     "data": {
      "text/plain": [
       "count    1567.000000\n",
       "mean       58.772176\n",
       "std       303.678591\n",
       "min         0.000000\n",
       "25%         0.000000\n",
       "50%         0.000000\n",
       "75%         0.000000\n",
       "max      3660.000000\n",
       "Name: revenue, dtype: float64"
      ]
     },
     "execution_count": 327,
     "metadata": {},
     "output_type": "execute_result"
    }
   ],
   "source": [
    "df_for_test_new.revenue[df_for_test.grp == 'A'].describe()"
   ]
  },
  {
   "cell_type": "code",
   "execution_count": 328,
   "id": "8291c96e",
   "metadata": {},
   "outputs": [
    {
     "data": {
      "text/plain": [
       "count    6803.000000\n",
       "mean       58.058798\n",
       "std       313.770198\n",
       "min         0.000000\n",
       "25%         0.000000\n",
       "50%         0.000000\n",
       "75%         0.000000\n",
       "max      4650.000000\n",
       "Name: revenue, dtype: float64"
      ]
     },
     "execution_count": 328,
     "metadata": {},
     "output_type": "execute_result"
    }
   ],
   "source": [
    "df_for_test_new.revenue[df_for_test.grp == 'B'].describe()"
   ]
  },
  {
   "cell_type": "markdown",
   "id": "42973f9a",
   "metadata": {},
   "source": [
    "Визуализируем распределения значений выручки, лежащих в основе расчета среднего чека ARPU.  \n",
    "Очевидно, что распределения ненормальные - присутствует множество нулевых значений, которые не позволяют их трансформировать и привести к виду, более похожему на нормальное. "
   ]
  },
  {
   "cell_type": "code",
   "execution_count": 329,
   "id": "b1e5e4fd",
   "metadata": {},
   "outputs": [
    {
     "data": {
      "image/png": "[encoded data removed]",
      "text/plain": [
       "<Figure size 640x480 with 1 Axes>"
      ]
     },
     "metadata": {},
     "output_type": "display_data"
    }
   ],
   "source": [
    "df_for_test_new.revenue[df_for_test_new.grp == 'A'].hist(bins=15)\n",
    "plt.title('Распределение количества пользователей в зависимости от суммы покупки, группа А')\n",
    "plt.xlabel('Сумма покупки, руб.')\n",
    "plt.ylabel('Количество пользователей')\n",
    "sns.despine()"
   ]
  },
  {
   "cell_type": "code",
   "execution_count": 330,
   "id": "959c62ae",
   "metadata": {},
   "outputs": [
    {
     "data": {
      "image/png": "[encoded data removed]",
      "text/plain": [
       "<Figure size 640x480 with 1 Axes>"
      ]
     },
     "metadata": {},
     "output_type": "display_data"
    }
   ],
   "source": [
    "df_for_test_new.revenue[df_for_test_new.grp == 'B'].hist(bins=15)\n",
    "plt.title('Распределение количества пользователей в зависимости от суммы покупки, группа В')\n",
    "plt.xlabel('Сумма покупки, руб.')\n",
    "plt.ylabel('Количество пользователей')\n",
    "sns.despine()"
   ]
  },
  {
   "cell_type": "code",
   "execution_count": 331,
   "id": "f83d706d",
   "metadata": {},
   "outputs": [
    {
     "data": {
      "text/html": [
       "<div>\n",
       "<style scoped>\n",
       "    .dataframe tbody tr th:only-of-type {\n",
       "        vertical-align: middle;\n",
       "    }\n",
       "\n",
       "    .dataframe tbody tr th {\n",
       "        vertical-align: top;\n",
       "    }\n",
       "\n",
       "    .dataframe thead th {\n",
       "        text-align: right;\n",
       "    }\n",
       "</style>\n",
       "<table border=\"1\" class=\"dataframe\">\n",
       "  <thead>\n",
       "    <tr style=\"text-align: right;\">\n",
       "      <th></th>\n",
       "      <th></th>\n",
       "      <th>id</th>\n",
       "    </tr>\n",
       "    <tr>\n",
       "      <th>purchase</th>\n",
       "      <th>grp</th>\n",
       "      <th></th>\n",
       "    </tr>\n",
       "  </thead>\n",
       "  <tbody>\n",
       "    <tr>\n",
       "      <th rowspan=\"2\" valign=\"top\">0</th>\n",
       "      <th>A</th>\n",
       "      <td>1460</td>\n",
       "    </tr>\n",
       "    <tr>\n",
       "      <th>B</th>\n",
       "      <td>6489</td>\n",
       "    </tr>\n",
       "    <tr>\n",
       "      <th rowspan=\"2\" valign=\"top\">1</th>\n",
       "      <th>A</th>\n",
       "      <td>107</td>\n",
       "    </tr>\n",
       "    <tr>\n",
       "      <th>B</th>\n",
       "      <td>314</td>\n",
       "    </tr>\n",
       "  </tbody>\n",
       "</table>\n",
       "</div>"
      ],
      "text/plain": [
       "                id\n",
       "purchase grp      \n",
       "0        A    1460\n",
       "         B    6489\n",
       "1        A     107\n",
       "         B     314"
      ]
     },
     "execution_count": 331,
     "metadata": {},
     "output_type": "execute_result"
    }
   ],
   "source": [
    "df_for_test_new.groupby(['purchase', 'grp']).agg({'id': 'count'})"
   ]
  },
  {
   "cell_type": "markdown",
   "id": "010c4d40",
   "metadata": {},
   "source": [
    "3. ARPPU (средняя выручка на платящего пользователя) по группам существенно увеличилась."
   ]
  },
  {
   "cell_type": "markdown",
   "id": "fbc04e6f",
   "metadata": {},
   "source": [
    "Для расчета ARPPU отберем только платящих пользователей."
   ]
  },
  {
   "cell_type": "code",
   "execution_count": 332,
   "id": "5c7ea6fb",
   "metadata": {},
   "outputs": [],
   "source": [
    "df_paid = df_for_test_new.query('purchase == 1')"
   ]
  },
  {
   "cell_type": "markdown",
   "id": "63c79450",
   "metadata": {},
   "source": [
    "Их количество в группах А и В - около 100 и 300 соответственно."
   ]
  },
  {
   "cell_type": "code",
   "execution_count": 333,
   "id": "42a2e162",
   "metadata": {},
   "outputs": [
    {
     "data": {
      "text/html": [
       "<div>\n",
       "<style scoped>\n",
       "    .dataframe tbody tr th:only-of-type {\n",
       "        vertical-align: middle;\n",
       "    }\n",
       "\n",
       "    .dataframe tbody tr th {\n",
       "        vertical-align: top;\n",
       "    }\n",
       "\n",
       "    .dataframe thead th {\n",
       "        text-align: right;\n",
       "    }\n",
       "</style>\n",
       "<table border=\"1\" class=\"dataframe\">\n",
       "  <thead>\n",
       "    <tr style=\"text-align: right;\">\n",
       "      <th></th>\n",
       "      <th>id</th>\n",
       "    </tr>\n",
       "    <tr>\n",
       "      <th>grp</th>\n",
       "      <th></th>\n",
       "    </tr>\n",
       "  </thead>\n",
       "  <tbody>\n",
       "    <tr>\n",
       "      <th>A</th>\n",
       "      <td>107</td>\n",
       "    </tr>\n",
       "    <tr>\n",
       "      <th>B</th>\n",
       "      <td>314</td>\n",
       "    </tr>\n",
       "  </tbody>\n",
       "</table>\n",
       "</div>"
      ],
      "text/plain": [
       "      id\n",
       "grp     \n",
       "A    107\n",
       "B    314"
      ]
     },
     "execution_count": 333,
     "metadata": {},
     "output_type": "execute_result"
    }
   ],
   "source": [
    "df_paid.groupby('grp').agg({'id': 'count'})"
   ]
  },
  {
   "cell_type": "code",
   "execution_count": 334,
   "id": "d30c6ec7",
   "metadata": {},
   "outputs": [
    {
     "data": {
      "text/plain": [
       "grp\n",
       "A     860.710280\n",
       "B    1257.878981\n",
       "Name: revenue, dtype: float64"
      ]
     },
     "execution_count": 334,
     "metadata": {},
     "output_type": "execute_result"
    }
   ],
   "source": [
    "ARPPU = df_paid.groupby('grp')['revenue'].mean()\n",
    "ARPPU"
   ]
  },
  {
   "cell_type": "markdown",
   "id": "d61bc071",
   "metadata": {},
   "source": [
    "Посмотрим на описательные статистики распределений"
   ]
  },
  {
   "cell_type": "code",
   "execution_count": 335,
   "id": "b66ec77e",
   "metadata": {},
   "outputs": [
    {
     "data": {
      "text/plain": [
       "count     107.000000\n",
       "mean      860.710280\n",
       "std       815.893445\n",
       "min       199.000000\n",
       "25%       290.000000\n",
       "50%       690.000000\n",
       "75%       990.000000\n",
       "max      3660.000000\n",
       "Name: revenue, dtype: float64"
      ]
     },
     "execution_count": 335,
     "metadata": {},
     "output_type": "execute_result"
    }
   ],
   "source": [
    "df_paid.query('grp == \"A\"').revenue.describe()"
   ]
  },
  {
   "cell_type": "code",
   "execution_count": 336,
   "id": "c4f3fab5",
   "metadata": {},
   "outputs": [
    {
     "data": {
      "text/plain": [
       "count     314.000000\n",
       "mean     1257.878981\n",
       "std       790.864245\n",
       "min       199.000000\n",
       "25%       511.750000\n",
       "50%      1140.000000\n",
       "75%      1900.000000\n",
       "max      4650.000000\n",
       "Name: revenue, dtype: float64"
      ]
     },
     "execution_count": 336,
     "metadata": {},
     "output_type": "execute_result"
    }
   ],
   "source": [
    "df_paid.query('grp == \"B\"').revenue.describe()"
   ]
  },
  {
   "cell_type": "markdown",
   "id": "eeace0ac",
   "metadata": {},
   "source": [
    "Визуализируем распределения. Проверим нормальность распределений."
   ]
  },
  {
   "cell_type": "code",
   "execution_count": 337,
   "id": "36f7f6eb",
   "metadata": {},
   "outputs": [
    {
     "data": {
      "image/png": "[encoded data removed]",
      "text/plain": [
       "<Figure size 640x480 with 1 Axes>"
      ]
     },
     "metadata": {},
     "output_type": "display_data"
    }
   ],
   "source": [
    "df_paid.query('grp == \"A\"').revenue.hist(bins=60)\n",
    "plt.title('Распределение количества платящих пользователей в зависимости от суммы покупки, группа А')\n",
    "plt.xlabel('Сумма покупки, руб.')\n",
    "plt.ylabel('Количество пользователей')\n",
    "sns.despine()"
   ]
  },
  {
   "cell_type": "code",
   "execution_count": 338,
   "id": "d9dc9f06",
   "metadata": {},
   "outputs": [
    {
     "data": {
      "image/png": "[encoded data removed]",
      "text/plain": [
       "<Figure size 640x480 with 1 Axes>"
      ]
     },
     "metadata": {},
     "output_type": "display_data"
    }
   ],
   "source": [
    "df_paid.query('grp == \"B\"').revenue.hist(bins=60)\n",
    "plt.title('Распределение количества платящих пользователей в зависимости от суммы покупки, группа В')\n",
    "plt.xlabel('Сумма покупки, руб.')\n",
    "plt.ylabel('Количество пользователей')\n",
    "sns.despine()"
   ]
  },
  {
   "cell_type": "markdown",
   "id": "b7905255",
   "metadata": {},
   "source": [
    "Построим боксплот для платящих пользователей.  \n",
    "Видим, что есть выбросы, которые влияют на значение ARPPU."
   ]
  },
  {
   "cell_type": "code",
   "execution_count": 339,
   "id": "790e4bcf",
   "metadata": {},
   "outputs": [
    {
     "data": {
      "image/png": "[encoded data removed]",
      "text/plain": [
       "<Figure size 640x480 with 1 Axes>"
      ]
     },
     "metadata": {},
     "output_type": "display_data"
    }
   ],
   "source": [
    "ax = sns.boxplot(x='grp' ,y='revenue' , data=df_paid)\n",
    "plt.title('Распределение сумм покупки в разрезе групп А и В')\n",
    "sns.despine()"
   ]
  },
  {
   "cell_type": "markdown",
   "id": "59d72248",
   "metadata": {},
   "source": [
    "Попробуем трансформировать данные с помощью логарифмирования.  \n",
    "Выбросы ушли, но распределение не стало нормальным. Наблюдается явная ассимметрия."
   ]
  },
  {
   "cell_type": "code",
   "execution_count": 340,
   "id": "5225bb5f",
   "metadata": {},
   "outputs": [
    {
     "data": {
      "image/png": "[encoded data removed]",
      "text/plain": [
       "<Figure size 640x480 with 1 Axes>"
      ]
     },
     "metadata": {},
     "output_type": "display_data"
    }
   ],
   "source": [
    "ax = sns.boxplot(x='grp', y=np.log(df_paid['revenue']), data=df_paid)\n",
    "plt.title('Распределение сумм покупки в разрезе групп А и В, логарифм')\n",
    "sns.despine()"
   ]
  },
  {
   "cell_type": "markdown",
   "id": "942afdb0",
   "metadata": {},
   "source": [
    "На графике ниже хорошо видно, что в данных группы В присутствует значение, существенно отличающееся от других."
   ]
  },
  {
   "cell_type": "code",
   "execution_count": 341,
   "id": "4eb9c387",
   "metadata": {},
   "outputs": [
    {
     "data": {
      "image/png": "[encoded data removed]",
      "text/plain": [
       "<Figure size 559.25x500 with 1 Axes>"
      ]
     },
     "metadata": {},
     "output_type": "display_data"
    }
   ],
   "source": [
    "sns.displot(x=np.log(df_paid['revenue']), data=df_paid, hue='grp', alpha=1)\n",
    "plt.title('Суммы покупок (в разрезе по группам) - прологарифмированные даннные', fontsize=14)\n",
    "sns.despine()"
   ]
  },
  {
   "cell_type": "markdown",
   "id": "75f2915b",
   "metadata": {},
   "source": [
    "Мы видим, что в целевой группе достаточно большая часть пользователей совершили покупку на сумму 1900 руб., в то время как в контрольной группе покупок на данную сумму совершено не было. Скорее всего, это связано с именно с нововведением по оплате - мы может только предположить, что конкретно это могло быть - акционное предложение, либо переход от разовой оплаты к оплате по абонементу. "
   ]
  },
  {
   "cell_type": "code",
   "execution_count": 342,
   "id": "31cf0bb2",
   "metadata": {},
   "outputs": [
    {
     "data": {
      "image/png": "[encoded data removed]",
      "text/plain": [
       "<Figure size 800x800 with 1 Axes>"
      ]
     },
     "metadata": {},
     "output_type": "display_data"
    }
   ],
   "source": [
    "plt.figure(figsize=(8,8))\n",
    "ax_ = sns.countplot(x = df_paid['revenue'].round(0), hue='grp', data=df_paid, alpha=1);\n",
    "\n",
    "plt.xticks(rotation=90, fontsize=10)\n",
    "sns.despine()\n",
    "\n",
    "ax_.set_xlabel('Сумма покупки (в руб.)', fontsize=12)\n",
    "ax_.set_ylabel('Количество покупок', fontsize=12)\n",
    "ax_.set_title('Количество покупок в зависимости от суммы покупки (в разрезе по группам)', fontsize=14)\n",
    "\n",
    "plt.show()"
   ]
  },
  {
   "cell_type": "code",
   "execution_count": 343,
   "id": "0b7eb663",
   "metadata": {},
   "outputs": [
    {
     "name": "stdout",
     "output_type": "stream",
     "text": [
      "Таким образом, в результате проведенного исследовательского анализа мы пришли к следующим выводам:\n",
      "1. CR (конверсия в покупку) снизилась: \n",
      "Группа А - 0.07,\n",
      "Группа В - 0.05.\n",
      "2. ARPU (средняя выручка на пользователя) снизилась незначительно, осталась примерно на том же уровне:\n",
      "Группа А - 58.77,\n",
      "Группа В - 58.06. \n",
      "3. ARPPU - (средняя выручка на платящего пользователя) выросла:\n",
      "Группа А - 860.71,\n",
      "Группа В - 1257.88.\n"
     ]
    }
   ],
   "source": [
    "print(f\"\"\"Таким образом, в результате проведенного исследовательского анализа мы пришли к следующим выводам:\n",
    "1. CR (конверсия в покупку) снизилась: \n",
    "Группа А - {round(df_for_test_new.purchase[df_for_test.grp == 'A'].mean(),2)},\n",
    "Группа В - {round(df_for_test_new.purchase[df_for_test.grp == 'B'].mean(),2)}.\n",
    "2. ARPU (средняя выручка на пользователя) снизилась незначительно, осталась примерно на том же уровне:\n",
    "Группа А - {round(df_for_test_new.revenue[df_for_test.grp == 'A'].mean(),2)},\n",
    "Группа В - {round(df_for_test_new.revenue[df_for_test.grp == 'B'].mean(),2)}. \n",
    "3. ARPPU - (средняя выручка на платящего пользователя) выросла:\n",
    "Группа А - {round(df_paid.query('grp == \"A\"').revenue.mean(),2)},\n",
    "Группа В - {round(df_paid.query('grp == \"B\"').revenue.mean(),2)}.\"\"\") \n"
   ]
  },
  {
   "cell_type": "markdown",
   "id": "2a755859",
   "metadata": {},
   "source": [
    "### 3. Статистический анализ значимости различия конверсии в покупку между группами <a name =\"Статистический анализ значимости различия конверсии в покупку между группами\"></a>"
   ]
  },
  {
   "cell_type": "markdown",
   "id": "627a9632",
   "metadata": {},
   "source": [
    "Нам необходимо понять, отличаются ли статистически значимо значения метрики в экспериментальной (целевой) группе от аналогичной метрики в контрольной группе. Протестируем каждую метрику:\n",
    "1. CR    - хи-квадрат (номинальные переменные, наблюдения независимы, количество купивших/не купивших больше 5)\n",
    "2. ARPU  - bootstrap \n",
    "3. ARPPU - bootstrap\n",
    "\n",
    "Уровень значимости для каждого из тестов - 5%."
   ]
  },
  {
   "cell_type": "markdown",
   "id": "b95fb4fd",
   "metadata": {},
   "source": [
    "#### 1. CR.  \n",
    "Нулевая гипотеза H0        - введение новой системы оплаты не повлияет на CR, средние равны. \n",
    "Альтернативная гипотеза H1 - введение новой системы оплаты повлияет на CR, средние отличаются. "
   ]
  },
  {
   "cell_type": "markdown",
   "id": "2f05d450",
   "metadata": {},
   "source": [
    "Создадим таблицу сопряжённости для проведения анализа chi2_contingency."
   ]
  },
  {
   "cell_type": "code",
   "execution_count": 344,
   "id": "e5f11bd9",
   "metadata": {},
   "outputs": [
    {
     "data": {
      "text/html": [
       "<div>\n",
       "<style scoped>\n",
       "    .dataframe tbody tr th:only-of-type {\n",
       "        vertical-align: middle;\n",
       "    }\n",
       "\n",
       "    .dataframe tbody tr th {\n",
       "        vertical-align: top;\n",
       "    }\n",
       "\n",
       "    .dataframe thead th {\n",
       "        text-align: right;\n",
       "    }\n",
       "</style>\n",
       "<table border=\"1\" class=\"dataframe\">\n",
       "  <thead>\n",
       "    <tr style=\"text-align: right;\">\n",
       "      <th>purchase</th>\n",
       "      <th>0</th>\n",
       "      <th>1</th>\n",
       "    </tr>\n",
       "    <tr>\n",
       "      <th>grp</th>\n",
       "      <th></th>\n",
       "      <th></th>\n",
       "    </tr>\n",
       "  </thead>\n",
       "  <tbody>\n",
       "    <tr>\n",
       "      <th>A</th>\n",
       "      <td>1460</td>\n",
       "      <td>107</td>\n",
       "    </tr>\n",
       "    <tr>\n",
       "      <th>B</th>\n",
       "      <td>6489</td>\n",
       "      <td>314</td>\n",
       "    </tr>\n",
       "  </tbody>\n",
       "</table>\n",
       "</div>"
      ],
      "text/plain": [
       "purchase     0    1\n",
       "grp                \n",
       "A         1460  107\n",
       "B         6489  314"
      ]
     },
     "execution_count": 344,
     "metadata": {},
     "output_type": "execute_result"
    }
   ],
   "source": [
    "crosstab = pd.crosstab(df_for_test_new.grp, df_for_test_new.purchase)\n",
    "crosstab"
   ]
  },
  {
   "cell_type": "code",
   "execution_count": 345,
   "id": "2bf7177e",
   "metadata": {},
   "outputs": [],
   "source": [
    "a_noclick = crosstab.loc['A', 0]\n",
    "a_click   = crosstab.loc['A', 1]\n",
    "b_noclick = crosstab.loc['B', 0]\n",
    "b_click   = crosstab.loc['B', 1]"
   ]
  },
  {
   "cell_type": "code",
   "execution_count": 346,
   "id": "ea74261b",
   "metadata": {},
   "outputs": [
    {
     "data": {
      "text/plain": [
       "array([[1460,  107],\n",
       "       [6489,  314]], dtype=int64)"
      ]
     },
     "execution_count": 346,
     "metadata": {},
     "output_type": "execute_result"
    }
   ],
   "source": [
    "T = np.array([[a_noclick, a_click], [b_noclick, b_click]])\n",
    "T"
   ]
  },
  {
   "cell_type": "code",
   "execution_count": 347,
   "id": "8e833ab8",
   "metadata": {},
   "outputs": [
    {
     "data": {
      "text/plain": [
       "0.0003"
      ]
     },
     "execution_count": 347,
     "metadata": {},
     "output_type": "execute_result"
    }
   ],
   "source": [
    "p_value_chi2 = chi2_contingency(T,correction=False)[1].round(4)\n",
    "p_value_chi2"
   ]
  },
  {
   "cell_type": "code",
   "execution_count": 348,
   "id": "44728849",
   "metadata": {},
   "outputs": [
    {
     "name": "stdout",
     "output_type": "stream",
     "text": [
      "Уровень значимости составляет 0.0003 < альфа = 0.05.   \n",
      "Основания для отклонения нулевой гипотезы есть.\n",
      "Принимаем альтернативную гипотезу.\n"
     ]
    }
   ],
   "source": [
    "print(f\"\"\"Уровень значимости составляет {p_value_chi2} < альфа = 0.05.   \n",
    "Основания для отклонения нулевой гипотезы есть.\n",
    "Принимаем альтернативную гипотезу.\"\"\")"
   ]
  },
  {
   "cell_type": "markdown",
   "id": "c3389625",
   "metadata": {},
   "source": [
    "### Определим функцию для работы bootstrap"
   ]
  },
  {
   "cell_type": "code",
   "execution_count": 349,
   "id": "65693cb1",
   "metadata": {},
   "outputs": [],
   "source": [
    "def get_bootstrap(\n",
    "    data_column_1, # числовые значения первой выборки\n",
    "    data_column_2, # числовые значения второй выборки\n",
    "    boot_it = 1000, # количество бутстрэп-подвыборок\n",
    "    statistic = np.mean, # интересующая нас статистика\n",
    "    bootstrap_conf_level = 0.95 # уровень значимости\n",
    "):\n",
    "    boot_data = []\n",
    "    for i in tqdm(range(boot_it)): # извлекаем подвыборки\n",
    "        samples_1 = data_column_1.sample(\n",
    "            len(data_column_1), \n",
    "            replace = True # параметр возвращения\n",
    "        ).values\n",
    "        \n",
    "        samples_2 = data_column_2.sample(\n",
    "            len(data_column_1), \n",
    "            replace = True\n",
    "        ).values\n",
    "        \n",
    "        boot_data.append(statistic(samples_1)-statistic(samples_2)) # mean() - применяем статистику\n",
    "        \n",
    "    pd_boot_data = pd.DataFrame(boot_data)\n",
    "        \n",
    "    left_quant = (1 - bootstrap_conf_level)/2\n",
    "    right_quant = 1 - (1 - bootstrap_conf_level) / 2\n",
    "    quants = pd_boot_data.quantile([left_quant, right_quant])\n",
    "        \n",
    "    p_1 = norm.cdf(\n",
    "        x = 0, \n",
    "        loc = np.mean(boot_data), \n",
    "        scale = np.std(boot_data)\n",
    "    )\n",
    "    p_2 = norm.cdf(\n",
    "        x = 0, \n",
    "        loc = -np.mean(boot_data), \n",
    "        scale = np.std(boot_data)\n",
    "    )\n",
    "    p_value = min(p_1, p_2) * 2\n",
    "        \n",
    "    # Визуализация\n",
    "    _, _, bars = plt.hist(pd_boot_data[0], bins = 50)\n",
    "    for bar in bars:\n",
    "        if bar.get_x() <= quants.iloc[0][0] or bar.get_x() >= quants.iloc[1][0]:\n",
    "            bar.set_facecolor('red')\n",
    "        else: \n",
    "            bar.set_facecolor('grey')\n",
    "            bar.set_edgecolor('black')\n",
    "    \n",
    "    plt.style.use('ggplot')\n",
    "    plt.vlines(quants,ymin=0,ymax=50,linestyle='--')\n",
    "    plt.xlabel('boot_data')\n",
    "    plt.ylabel('frequency')\n",
    "    plt.title(\"Histogram of boot_data\")\n",
    "    plt.show()\n",
    "       \n",
    "    return {\"boot_data\": boot_data, \n",
    "            \"quants\": quants, \n",
    "            \"p_value\": p_value}"
   ]
  },
  {
   "cell_type": "code",
   "execution_count": 350,
   "id": "fec27550",
   "metadata": {},
   "outputs": [],
   "source": [
    "a = df_for_test_new.query('grp == \"A\"')\n",
    "b = df_for_test_new.query('grp == \"B\"')"
   ]
  },
  {
   "cell_type": "markdown",
   "id": "52fb190d",
   "metadata": {},
   "source": [
    "#### 2. ARPU \n",
    "Исходные условия:\n",
    " - ARPU - метрика, основанная на непрерывных количественных переменных (данных о сумме покупок)\n",
    " - данные характеризуются неправильным распределением с большим количеством нулевых значений\n",
    " \n",
    "Нулевая гипотеза H0        - введение новой системы оплаты не повлияет на ARPU, средние равны.  \n",
    "Альтернативная гипотеза H1 - введение новой системы оплаты повлияет на ARPU, средние отличаются.  \n",
    "Выбранный метод тестирования - bootstrap."
   ]
  },
  {
   "cell_type": "code",
   "execution_count": 351,
   "id": "d9ffaf2e",
   "metadata": {},
   "outputs": [
    {
     "data": {
      "application/vnd.jupyter.widget-view+json": {
       "model_id": "e4875a9eff2f4f1aa48a932c8c5920da",
       "version_major": 2,
       "version_minor": 0
      },
      "text/plain": [
       "  0%|          | 0/1000 [00:00<?, ?it/s]"
      ]
     },
     "metadata": {},
     "output_type": "display_data"
    },
    {
     "data": {
      "image/png": "[encoded data removed]",
      "text/plain": [
       "<Figure size 640x480 with 1 Axes>"
      ]
     },
     "metadata": {},
     "output_type": "display_data"
    }
   ],
   "source": [
    "ARPU_booted_data = get_bootstrap(a.revenue, b.revenue)"
   ]
  },
  {
   "cell_type": "code",
   "execution_count": 352,
   "id": "fb1359b2",
   "metadata": {},
   "outputs": [
    {
     "data": {
      "text/plain": [
       "0.9320176040866713"
      ]
     },
     "execution_count": 352,
     "metadata": {},
     "output_type": "execute_result"
    }
   ],
   "source": [
    "ARPU_booted_data[\"p_value\"]"
   ]
  },
  {
   "cell_type": "code",
   "execution_count": 353,
   "id": "dcb8108e",
   "metadata": {},
   "outputs": [
    {
     "data": {
      "text/html": [
       "<div>\n",
       "<style scoped>\n",
       "    .dataframe tbody tr th:only-of-type {\n",
       "        vertical-align: middle;\n",
       "    }\n",
       "\n",
       "    .dataframe tbody tr th {\n",
       "        vertical-align: top;\n",
       "    }\n",
       "\n",
       "    .dataframe thead th {\n",
       "        text-align: right;\n",
       "    }\n",
       "</style>\n",
       "<table border=\"1\" class=\"dataframe\">\n",
       "  <thead>\n",
       "    <tr style=\"text-align: right;\">\n",
       "      <th></th>\n",
       "      <th>0</th>\n",
       "    </tr>\n",
       "  </thead>\n",
       "  <tbody>\n",
       "    <tr>\n",
       "      <th>0.025</th>\n",
       "      <td>-20.261886</td>\n",
       "    </tr>\n",
       "    <tr>\n",
       "      <th>0.975</th>\n",
       "      <td>22.055648</td>\n",
       "    </tr>\n",
       "  </tbody>\n",
       "</table>\n",
       "</div>"
      ],
      "text/plain": [
       "               0\n",
       "0.025 -20.261886\n",
       "0.975  22.055648"
      ]
     },
     "execution_count": 353,
     "metadata": {},
     "output_type": "execute_result"
    }
   ],
   "source": [
    "ARPU_booted_data[\"quants\"]"
   ]
  },
  {
   "cell_type": "code",
   "execution_count": 354,
   "id": "7aafcabd",
   "metadata": {},
   "outputs": [
    {
     "name": "stdout",
     "output_type": "stream",
     "text": [
      "Уровень значимости составляет 0.93 > 0.05, что в целом не позволяет нам отклонить нулевую гипотезу и принять альтернативную.   \n",
      "В найденный доверительный интервал попадает 0, что означает, что мы не можем быть уверены в том, что настоящий эффект отличен от нуля и имеет статистическую значимость.\n",
      "Оснований для отклонения нулевой гипотезы нет.\n"
     ]
    }
   ],
   "source": [
    "print(f\"\"\"Уровень значимости составляет {ARPU_booted_data[\"p_value\"].round(2)} > 0.05, что в целом не позволяет нам отклонить нулевую гипотезу и принять альтернативную.   \n",
    "В найденный доверительный интервал попадает 0, что означает, что мы не можем быть уверены в том, что настоящий эффект отличен от нуля и имеет статистическую значимость.\n",
    "Оснований для отклонения нулевой гипотезы нет.\"\"\")"
   ]
  },
  {
   "cell_type": "markdown",
   "id": "d52ab078",
   "metadata": {},
   "source": [
    "#### 3. ARPPU"
   ]
  },
  {
   "cell_type": "markdown",
   "id": "4861b856",
   "metadata": {},
   "source": [
    "Исходные условия:\n",
    " - ARPPU - метрики, основанные на непрерывных количественных переменных (данных о сумме покупок)\n",
    " - данные характеризуются неправильным распределением, даже при логарифмировании ARPPU не становится близким к нормальному.\n",
    " \n",
    "Нулевая гипотеза H0        - введение новой системы оплаты не повлияет на ARPPU, средние равны.  \n",
    "Альтернативная гипотеза H1 - введение новой системы оплаты повлияет на ARPPU, средние отличаются.  \n",
    "Выбранный метод тестирования - bootstrap."
   ]
  },
  {
   "cell_type": "code",
   "execution_count": 355,
   "id": "cc371d11",
   "metadata": {},
   "outputs": [],
   "source": [
    "a_ = df_paid.query('grp == \"A\"')\n",
    "b_ = df_paid.query('grp == \"B\"')"
   ]
  },
  {
   "cell_type": "code",
   "execution_count": 356,
   "id": "9e251196",
   "metadata": {},
   "outputs": [
    {
     "data": {
      "application/vnd.jupyter.widget-view+json": {
       "model_id": "e07a2a5e280742a2a551a4467c4f4a72",
       "version_major": 2,
       "version_minor": 0
      },
      "text/plain": [
       "  0%|          | 0/1000 [00:00<?, ?it/s]"
      ]
     },
     "metadata": {},
     "output_type": "display_data"
    },
    {
     "data": {
      "image/png": "[encoded data removed]",
      "text/plain": [
       "<Figure size 640x480 with 1 Axes>"
      ]
     },
     "metadata": {},
     "output_type": "display_data"
    }
   ],
   "source": [
    "ARPPU_booted_data = get_bootstrap(a_.revenue, b_.revenue)"
   ]
  },
  {
   "cell_type": "code",
   "execution_count": 357,
   "id": "49fd19aa",
   "metadata": {},
   "outputs": [
    {
     "data": {
      "text/plain": [
       "0.0003172335304332681"
      ]
     },
     "execution_count": 357,
     "metadata": {},
     "output_type": "execute_result"
    }
   ],
   "source": [
    "ARPPU_booted_data[\"p_value\"]"
   ]
  },
  {
   "cell_type": "code",
   "execution_count": 358,
   "id": "6aefaaa8",
   "metadata": {},
   "outputs": [
    {
     "data": {
      "text/html": [
       "<div>\n",
       "<style scoped>\n",
       "    .dataframe tbody tr th:only-of-type {\n",
       "        vertical-align: middle;\n",
       "    }\n",
       "\n",
       "    .dataframe tbody tr th {\n",
       "        vertical-align: top;\n",
       "    }\n",
       "\n",
       "    .dataframe thead th {\n",
       "        text-align: right;\n",
       "    }\n",
       "</style>\n",
       "<table border=\"1\" class=\"dataframe\">\n",
       "  <thead>\n",
       "    <tr style=\"text-align: right;\">\n",
       "      <th></th>\n",
       "      <th>0</th>\n",
       "    </tr>\n",
       "  </thead>\n",
       "  <tbody>\n",
       "    <tr>\n",
       "      <th>0.025</th>\n",
       "      <td>-618.405841</td>\n",
       "    </tr>\n",
       "    <tr>\n",
       "      <th>0.975</th>\n",
       "      <td>-174.205140</td>\n",
       "    </tr>\n",
       "  </tbody>\n",
       "</table>\n",
       "</div>"
      ],
      "text/plain": [
       "                0\n",
       "0.025 -618.405841\n",
       "0.975 -174.205140"
      ]
     },
     "execution_count": 358,
     "metadata": {},
     "output_type": "execute_result"
    }
   ],
   "source": [
    "ARPPU_booted_data[\"quants\"]"
   ]
  },
  {
   "cell_type": "code",
   "execution_count": 359,
   "id": "a24aba80",
   "metadata": {},
   "outputs": [
    {
     "name": "stdout",
     "output_type": "stream",
     "text": [
      "Уровень значимости составляет 0.0003 < 0.05, что позволяет нам отклонить нулевую гипотезу и принять альтернативную.   \n",
      "В найденный доверительный интервал не попадает 0, что в целом означает, что мы можем быть уверены в том, что настоящий эффект отличен от нуля и имеет статистическую значимость.   \n",
      "Однако мы получили полностью отрицательные значения доверительного интервала, что может быть результатом разных обстоятельств:\n",
      "- слишком большая разница между метриками (Группа А - 860.71, Группа В - 1257.88)\n",
      "- некорректно сформированная выборка.\n"
     ]
    }
   ],
   "source": [
    "print(f\"\"\"Уровень значимости составляет {ARPPU_booted_data[\"p_value\"].round(4)} < 0.05, что позволяет нам отклонить нулевую гипотезу и принять альтернативную.   \n",
    "В найденный доверительный интервал не попадает 0, что в целом означает, что мы можем быть уверены в том, что настоящий эффект отличен от нуля и имеет статистическую значимость.   \n",
    "Однако мы получили полностью отрицательные значения доверительного интервала, что может быть результатом разных обстоятельств:\n",
    "- слишком большая разница между метриками (Группа А - {round(df_paid.query('grp == \"A\"').revenue.mean(),2)}, Группа В - {round(df_paid.query('grp == \"B\"').revenue.mean(),2)})\n",
    "- некорректно сформированная выборка.\"\"\")"
   ]
  },
  {
   "cell_type": "markdown",
   "id": "a4a2f7de",
   "metadata": {},
   "source": [
    "### Выводы <a name =\"Выводы\"></a>"
   ]
  },
  {
   "cell_type": "code",
   "execution_count": 360,
   "id": "6cdcf7f0",
   "metadata": {},
   "outputs": [
    {
     "name": "stdout",
     "output_type": "stream",
     "text": [
      "1. CR (конверсия в покупку).   \n",
      "Хи-квадрат: 0.0003 < 0.05.  \n",
      "Основания для отклонения нулевой гипотезы есть. Принимаем альтернативную гипотезу.  \n",
      "Группа А - 0.068,\n",
      "Группа В - 0.046. \n",
      "\n",
      "Считаем, что снижение CR до 0.046 статистически значимо.\n",
      "\n",
      "2. ARPU (средняя выручка на пользователя)\n",
      "Bootstrap анализ: 0.93 > 0.05, в найденный доверительный интервал попадает 0.  \n",
      "Оснований для отклонения нулевой гипотезы нет.  \n",
      "Группа А - 58.77,\n",
      "Группа В - 58.06. \n",
      "\n",
      "Считаем, что снижение ARPU не является статистически значимым.\n",
      "\n",
      "3. ARPPU - (средняя выручка на платящего пользователя)  \n",
      "Bootstrap анализ  - 0.0003 < 0.05.\n",
      "В найденный доверительный интервал не попадает 0, однако доверительный интервал состоит из отрицательных значений.\n",
      "     \n",
      "Основания для отклонения нулевой гипотезы есть.    \n",
      "Группа А - 860.71,\n",
      "Группа В - 1257.88.\n",
      "\n",
      "Считаем, что увеличение ARPPU является статистически значимым.\n"
     ]
    }
   ],
   "source": [
    "print(f\"\"\"1. CR (конверсия в покупку).   \n",
    "Хи-квадрат: {p_value_chi2} < 0.05.  \n",
    "Основания для отклонения нулевой гипотезы есть. Принимаем альтернативную гипотезу.  \n",
    "Группа А - {round(df_for_test_new.purchase[df_for_test.grp == 'A'].mean(),3)},\n",
    "Группа В - {round(df_for_test_new.purchase[df_for_test.grp == 'B'].mean(),3)}. \n",
    "\n",
    "Считаем, что снижение CR до {round(df_for_test_new.purchase[df_for_test.grp == 'B'].mean(),3)} статистически значимо.\n",
    "\n",
    "2. ARPU (средняя выручка на пользователя)\n",
    "Bootstrap анализ: {ARPU_booted_data[\"p_value\"].round(2)} > 0.05, в найденный доверительный интервал попадает 0.  \n",
    "Оснований для отклонения нулевой гипотезы нет.  \n",
    "Группа А - {round(df_for_test_new.revenue[df_for_test.grp == 'A'].mean(), 2)},\n",
    "Группа В - {round(df_for_test_new.revenue[df_for_test.grp == 'B'].mean(), 2)}. \n",
    "\n",
    "Считаем, что снижение ARPU не является статистически значимым.\n",
    "\n",
    "3. ARPPU - (средняя выручка на платящего пользователя)  \n",
    "Bootstrap анализ  - {ARPPU_booted_data[\"p_value\"].round(4)} < 0.05.\n",
    "В найденный доверительный интервал не попадает 0, однако доверительный интервал состоит из отрицательных значений.\n",
    "     \n",
    "Основания для отклонения нулевой гипотезы есть.    \n",
    "Группа А - {round(df_paid.query('grp == \"A\"').revenue.mean(), 2)},\n",
    "Группа В - {round(df_paid.query('grp == \"B\"').revenue.mean(), 2)}.\n",
    "\n",
    "Считаем, что увеличение ARPPU является статистически значимым.\"\"\")"
   ]
  },
  {
   "cell_type": "markdown",
   "id": "66f7b0e4",
   "metadata": {},
   "source": [
    "По результатам А/В теста CR снизился на 2.2%, ARPPU увеличился на 46%, изменение ARPU подтвердить не удалось.  \n",
    "В качестве дальнейших действий небходимо:\n",
    "- проверить корректность работы системы сплитования, провести А/А тест;\n",
    "- если есть пользователи, у которых настроен автоплатеж, учитывать их при сплитовании так, чтобы они не попали в целевую группу;\n",
    "- выяснить, что стало причиной появления экстремальных значений в выборке по группе В и далее в соответствии с этим выбрать наиболее подходящую методику тестирования;\n",
    "- если есть возможность, пока не раскатывать новую оплату на всех пользователей, продолжить эксперимент, понаблюдать за конверсией."
   ]
  },
  {
   "cell_type": "markdown",
   "id": "7e166667",
   "metadata": {},
   "source": [
    "## 2. Python  <a name =\"Python\"></a>"
   ]
  },
  {
   "cell_type": "markdown",
   "id": "1f0abfdf",
   "metadata": {},
   "source": [
    "### 2.1. Метрики <a name =\"Метрики\"></a>"
   ]
  },
  {
   "cell_type": "markdown",
   "id": "a36c0b5f",
   "metadata": {},
   "source": [
    "Реализуйте функцию, которая будет автоматически подгружать информацию из дополнительного файла groups_add.csv (заголовки могут отличаться) и на основании дополнительных параметров пересчитывать метрики."
   ]
  },
  {
   "cell_type": "markdown",
   "id": "b02e38dc",
   "metadata": {},
   "source": [
    "Представим ситуацию, когда анализ выше (в первом задании) еще не был проведен. Имеется датафрейм с данными о пользователях для проведения А/В теста, и через какое время команда нашла ошибку в сплитовании и решила добавить пользователей в имеющийся датафрейм.  "
   ]
  },
  {
   "cell_type": "markdown",
   "id": "51a2a89e",
   "metadata": {},
   "source": [
    "Подготовим датафрейм и метрики, которые нужно будет обновить:\n",
    "- к списку студентов с разделением на группы добавим информацию об  активности студентов в день эксперимента в булевом виде\n",
    "- присоединим данные из таблицы о покупках\n",
    "- добавим информацию о совершенных покупках в булевом виде 0/1"
   ]
  },
  {
   "cell_type": "code",
   "execution_count": 361,
   "id": "aad819ff",
   "metadata": {},
   "outputs": [
    {
     "data": {
      "text/html": [
       "<div>\n",
       "<style scoped>\n",
       "    .dataframe tbody tr th:only-of-type {\n",
       "        vertical-align: middle;\n",
       "    }\n",
       "\n",
       "    .dataframe tbody tr th {\n",
       "        vertical-align: top;\n",
       "    }\n",
       "\n",
       "    .dataframe thead th {\n",
       "        text-align: right;\n",
       "    }\n",
       "</style>\n",
       "<table border=\"1\" class=\"dataframe\">\n",
       "  <thead>\n",
       "    <tr style=\"text-align: right;\">\n",
       "      <th></th>\n",
       "      <th>id</th>\n",
       "      <th>grp</th>\n",
       "      <th>active_stud</th>\n",
       "      <th>revenue</th>\n",
       "      <th>purchase</th>\n",
       "    </tr>\n",
       "  </thead>\n",
       "  <tbody>\n",
       "    <tr>\n",
       "      <th>0</th>\n",
       "      <td>1489</td>\n",
       "      <td>B</td>\n",
       "      <td>False</td>\n",
       "      <td>0.0</td>\n",
       "      <td>0</td>\n",
       "    </tr>\n",
       "    <tr>\n",
       "      <th>1</th>\n",
       "      <td>1627</td>\n",
       "      <td>A</td>\n",
       "      <td>True</td>\n",
       "      <td>990.0</td>\n",
       "      <td>1</td>\n",
       "    </tr>\n",
       "    <tr>\n",
       "      <th>2</th>\n",
       "      <td>1768</td>\n",
       "      <td>B</td>\n",
       "      <td>False</td>\n",
       "      <td>0.0</td>\n",
       "      <td>0</td>\n",
       "    </tr>\n",
       "    <tr>\n",
       "      <th>3</th>\n",
       "      <td>1783</td>\n",
       "      <td>B</td>\n",
       "      <td>False</td>\n",
       "      <td>0.0</td>\n",
       "      <td>0</td>\n",
       "    </tr>\n",
       "    <tr>\n",
       "      <th>4</th>\n",
       "      <td>1794</td>\n",
       "      <td>A</td>\n",
       "      <td>False</td>\n",
       "      <td>0.0</td>\n",
       "      <td>0</td>\n",
       "    </tr>\n",
       "  </tbody>\n",
       "</table>\n",
       "</div>"
      ],
      "text/plain": [
       "     id grp  active_stud  revenue  purchase\n",
       "0  1489   B        False      0.0         0\n",
       "1  1627   A         True    990.0         1\n",
       "2  1768   B        False      0.0         0\n",
       "3  1783   B        False      0.0         0\n",
       "4  1794   A        False      0.0         0"
      ]
     },
     "execution_count": 361,
     "metadata": {},
     "output_type": "execute_result"
    }
   ],
   "source": [
    "df_groups_1 = df_groups\n",
    "df_groups_1 ['active_stud'] = df_groups_1['id'].isin(df_active_students['id'])\n",
    "df_groups_at_work = df_groups_1.merge(df_checks, how='left', on='id')\\\n",
    "                             .fillna({'revenue': 0}) \n",
    "df_groups_at_work['purchase'] = df_groups_at_work['revenue'].apply(lambda x: '0' if x <= 0 else '1').astype(int)\n",
    "df_groups_at_work.head()"
   ]
  },
  {
   "cell_type": "code",
   "execution_count": 362,
   "id": "97f13d75",
   "metadata": {},
   "outputs": [],
   "source": [
    "group_a_3  = df_groups_at_work.query('grp == \"A\" & purchase == 1 & active_stud == False')\n",
    "group_a_3_ = df_groups_at_work.query('grp == \"A\" & active_stud == True')\n",
    "group_b_3  = df_groups_at_work.query('grp == \"B\" & active_stud == True')"
   ]
  },
  {
   "cell_type": "markdown",
   "id": "220eb6d0",
   "metadata": {},
   "source": [
    "Получим финальный датасет до обновления"
   ]
  },
  {
   "cell_type": "code",
   "execution_count": 363,
   "id": "02f12f03",
   "metadata": {},
   "outputs": [
    {
     "data": {
      "text/html": [
       "<div>\n",
       "<style scoped>\n",
       "    .dataframe tbody tr th:only-of-type {\n",
       "        vertical-align: middle;\n",
       "    }\n",
       "\n",
       "    .dataframe tbody tr th {\n",
       "        vertical-align: top;\n",
       "    }\n",
       "\n",
       "    .dataframe thead th {\n",
       "        text-align: right;\n",
       "    }\n",
       "</style>\n",
       "<table border=\"1\" class=\"dataframe\">\n",
       "  <thead>\n",
       "    <tr style=\"text-align: right;\">\n",
       "      <th></th>\n",
       "      <th>id</th>\n",
       "      <th>grp</th>\n",
       "      <th>active_stud</th>\n",
       "      <th>revenue</th>\n",
       "      <th>purchase</th>\n",
       "    </tr>\n",
       "  </thead>\n",
       "  <tbody>\n",
       "    <tr>\n",
       "      <th>406</th>\n",
       "      <td>114366</td>\n",
       "      <td>A</td>\n",
       "      <td>False</td>\n",
       "      <td>690.0</td>\n",
       "      <td>1</td>\n",
       "    </tr>\n",
       "    <tr>\n",
       "      <th>2041</th>\n",
       "      <td>212994</td>\n",
       "      <td>A</td>\n",
       "      <td>False</td>\n",
       "      <td>690.0</td>\n",
       "      <td>1</td>\n",
       "    </tr>\n",
       "    <tr>\n",
       "      <th>2231</th>\n",
       "      <td>218393</td>\n",
       "      <td>A</td>\n",
       "      <td>False</td>\n",
       "      <td>690.0</td>\n",
       "      <td>1</td>\n",
       "    </tr>\n",
       "    <tr>\n",
       "      <th>2393</th>\n",
       "      <td>225541</td>\n",
       "      <td>A</td>\n",
       "      <td>False</td>\n",
       "      <td>690.0</td>\n",
       "      <td>1</td>\n",
       "    </tr>\n",
       "    <tr>\n",
       "      <th>2969</th>\n",
       "      <td>243614</td>\n",
       "      <td>A</td>\n",
       "      <td>False</td>\n",
       "      <td>690.0</td>\n",
       "      <td>1</td>\n",
       "    </tr>\n",
       "    <tr>\n",
       "      <th>...</th>\n",
       "      <td>...</td>\n",
       "      <td>...</td>\n",
       "      <td>...</td>\n",
       "      <td>...</td>\n",
       "      <td>...</td>\n",
       "    </tr>\n",
       "    <tr>\n",
       "      <th>74447</th>\n",
       "      <td>5678521</td>\n",
       "      <td>B</td>\n",
       "      <td>True</td>\n",
       "      <td>0.0</td>\n",
       "      <td>0</td>\n",
       "    </tr>\n",
       "    <tr>\n",
       "      <th>74452</th>\n",
       "      <td>5681918</td>\n",
       "      <td>B</td>\n",
       "      <td>True</td>\n",
       "      <td>1900.0</td>\n",
       "      <td>1</td>\n",
       "    </tr>\n",
       "    <tr>\n",
       "      <th>74456</th>\n",
       "      <td>5685258</td>\n",
       "      <td>B</td>\n",
       "      <td>True</td>\n",
       "      <td>0.0</td>\n",
       "      <td>0</td>\n",
       "    </tr>\n",
       "    <tr>\n",
       "      <th>74461</th>\n",
       "      <td>5688310</td>\n",
       "      <td>B</td>\n",
       "      <td>True</td>\n",
       "      <td>0.0</td>\n",
       "      <td>0</td>\n",
       "    </tr>\n",
       "    <tr>\n",
       "      <th>74464</th>\n",
       "      <td>5689627</td>\n",
       "      <td>B</td>\n",
       "      <td>True</td>\n",
       "      <td>0.0</td>\n",
       "      <td>0</td>\n",
       "    </tr>\n",
       "  </tbody>\n",
       "</table>\n",
       "<p>8357 rows × 5 columns</p>\n",
       "</div>"
      ],
      "text/plain": [
       "            id grp  active_stud  revenue  purchase\n",
       "406     114366   A        False    690.0         1\n",
       "2041    212994   A        False    690.0         1\n",
       "2231    218393   A        False    690.0         1\n",
       "2393    225541   A        False    690.0         1\n",
       "2969    243614   A        False    690.0         1\n",
       "...        ...  ..          ...      ...       ...\n",
       "74447  5678521   B         True      0.0         0\n",
       "74452  5681918   B         True   1900.0         1\n",
       "74456  5685258   B         True      0.0         0\n",
       "74461  5688310   B         True      0.0         0\n",
       "74464  5689627   B         True      0.0         0\n",
       "\n",
       "[8357 rows x 5 columns]"
      ]
     },
     "execution_count": 363,
     "metadata": {},
     "output_type": "execute_result"
    }
   ],
   "source": [
    "df_groups_at_work_final = pd.concat([\n",
    "                                     df_groups_at_work.query('grp == \"A\" & purchase == 1 & active_stud == False'),\n",
    "                                     df_groups_at_work.query('grp == \"A\" & active_stud == True'),\n",
    "                                     df_groups_at_work.query('grp == \"B\" & active_stud == True')\n",
    "                                    ])\n",
    "df_groups_at_work_final"
   ]
  },
  {
   "cell_type": "markdown",
   "id": "61d1453a",
   "metadata": {},
   "source": [
    "На основании данного файла мы рассчитываем метрики и записываем их в датасет"
   ]
  },
  {
   "cell_type": "code",
   "execution_count": 364,
   "id": "86dbc78c",
   "metadata": {},
   "outputs": [],
   "source": [
    "# CR (конверсия в покупку)\n",
    "CR_A = df_groups_at_work_final.purchase[df_groups_at_work_final.grp == 'A'].mean()\n",
    "CR_B = df_groups_at_work_final.purchase[df_groups_at_work_final.grp == 'B'].mean()\n",
    "\n",
    "# ARPU (средняя выручка на пользователя) \n",
    "ARPU_A = df_groups_at_work_final.revenue[df_groups_at_work_final.grp == 'A'].mean()\n",
    "ARPU_B = df_groups_at_work_final.revenue[df_groups_at_work_final.grp == 'B'].mean()\n",
    "\n",
    "# ARPPU - (средняя выручка на платящего пользователя  \n",
    "ARPPU_A = df_groups_at_work_final.query('grp == \"A\" & purchase == 1').revenue.mean()\n",
    "ARPPU_B = df_groups_at_work_final.query('grp == \"B\" & purchase == 1').revenue.mean()\n",
    "         \n",
    "metrics_data =[['CR_A', CR_A], ['CR_B', CR_B], ['ARPU_A', ARPU_A], ['ARPU_B', ARPU_B], ['ARPPU_A', ARPPU_A], ['ARPPU_B',ARPPU_B]]\n",
    "\n",
    "df_metrics = pd.DataFrame(data=metrics_data, columns=['name', 'value'])         "
   ]
  },
  {
   "cell_type": "code",
   "execution_count": 365,
   "id": "8e5ee76a",
   "metadata": {},
   "outputs": [
    {
     "data": {
      "text/html": [
       "<div>\n",
       "<style scoped>\n",
       "    .dataframe tbody tr th:only-of-type {\n",
       "        vertical-align: middle;\n",
       "    }\n",
       "\n",
       "    .dataframe tbody tr th {\n",
       "        vertical-align: top;\n",
       "    }\n",
       "\n",
       "    .dataframe thead th {\n",
       "        text-align: right;\n",
       "    }\n",
       "</style>\n",
       "<table border=\"1\" class=\"dataframe\">\n",
       "  <thead>\n",
       "    <tr style=\"text-align: right;\">\n",
       "      <th></th>\n",
       "      <th>name</th>\n",
       "      <th>value</th>\n",
       "    </tr>\n",
       "  </thead>\n",
       "  <tbody>\n",
       "    <tr>\n",
       "      <th>0</th>\n",
       "      <td>CR_A</td>\n",
       "      <td>0.068414</td>\n",
       "    </tr>\n",
       "    <tr>\n",
       "      <th>1</th>\n",
       "      <td>CR_B</td>\n",
       "      <td>0.046077</td>\n",
       "    </tr>\n",
       "    <tr>\n",
       "      <th>2</th>\n",
       "      <td>ARPU_A</td>\n",
       "      <td>58.884910</td>\n",
       "    </tr>\n",
       "    <tr>\n",
       "      <th>3</th>\n",
       "      <td>ARPU_B</td>\n",
       "      <td>57.864567</td>\n",
       "    </tr>\n",
       "    <tr>\n",
       "      <th>4</th>\n",
       "      <td>ARPPU_A</td>\n",
       "      <td>860.710280</td>\n",
       "    </tr>\n",
       "    <tr>\n",
       "      <th>5</th>\n",
       "      <td>ARPPU_B</td>\n",
       "      <td>1255.827487</td>\n",
       "    </tr>\n",
       "  </tbody>\n",
       "</table>\n",
       "</div>"
      ],
      "text/plain": [
       "      name        value\n",
       "0     CR_A     0.068414\n",
       "1     CR_B     0.046077\n",
       "2   ARPU_A    58.884910\n",
       "3   ARPU_B    57.864567\n",
       "4  ARPPU_A   860.710280\n",
       "5  ARPPU_B  1255.827487"
      ]
     },
     "execution_count": 365,
     "metadata": {},
     "output_type": "execute_result"
    }
   ],
   "source": [
    "df_metrics"
   ]
  },
  {
   "cell_type": "markdown",
   "id": "32b5c8a6",
   "metadata": {},
   "source": [
    "Мы получили файл с дополнительным списком пользователей df_groups_add. Необходимо, чтобы данные из этого файла на этапе формирования общего датасета обновляли файл df_groups, и далее все остальные расчеты происходили аналогичным образом.\n",
    "Напишем для этого функцию."
   ]
  },
  {
   "cell_type": "code",
   "execution_count": 366,
   "id": "5fba9d0f",
   "metadata": {},
   "outputs": [],
   "source": [
    "\"\"\"\"Прочитаем файл с помощью написанной ранее функции.\n",
    "    Дополним первоначальный список студентов информацией из нового файла.\n",
    "    Добавим столбец с информацией об активности студентов.\n",
    "    Добавим суммы покупок и создадим новый датафрейм.\n",
    "    Добавим столбец с информацией об оплатах (0/1).\n",
    "    Выберем необходимые категории студентов и сформируем финальный обновленный датафрейм.\n",
    "    \n",
    "    Рассчитаем обновленные метрики и запишем их в датафрейм.\"\"\"\"\n",
    "    \n",
    "\n",
    "def update_metrics(df_groups_add):\n",
    "    df_groups_add = get_df_by_yandex_link('https://disk.yandex.ru/d/5Kxrz02m3IBUwQ')\n",
    "    df_groups_update = pd.concat([df_groups_1.iloc[:, [0,1]],df_groups_add.iloc[:, [0,1]]])  \n",
    "    df_groups_update ['active_stud'] = df_groups_update['id'].isin(df_active_students['id']) \n",
    "    df_groups_at_work_update = df_groups_update.merge(df_checks, how = 'left', on = 'id').fillna({'revenue': 0}) \n",
    "    df_groups_at_work_update['purchase'] = np.where(df_groups_at_work_update['revenue'] <= 0, 0, 1).astype(int)\n",
    "    \n",
    "    df_groups_at_work_final_update = pd.concat([\n",
    "        df_groups_at_work_update.query('grp == \"A\" & purchase == 1 & active_stud == False'),\n",
    "        df_groups_at_work_update.query('grp == \"A\" & active_stud == True'),\n",
    "        df_groups_at_work_update.query('grp == \"B\" & active_stud == True')\n",
    "    ])\n",
    "\n",
    "    # CR\n",
    "    CR_A = df_groups_at_work_final_update.purchase[df_groups_at_work_final_update.grp == 'A'].mean()\n",
    "    CR_B = df_groups_at_work_final_update.purchase[df_groups_at_work_final_update.grp == 'B'].mean()\n",
    "\n",
    "    # ARPU \n",
    "    ARPU_A = df_groups_at_work_final_update.revenue[df_groups_at_work_final_update.grp == 'A'].mean()\n",
    "    ARPU_B = df_groups_at_work_final_update.revenue[df_groups_at_work_final_update.grp == 'B'].mean()\n",
    "\n",
    "    # ARPPU  \n",
    "    ARPPU_A = df_groups_at_work_final_update.query('grp == \"A\" & purchase == 1').revenue.mean()\n",
    "    ARPPU_B = df_groups_at_work_final_update.query('grp == \"B\" & purchase == 1').revenue.mean()\n",
    "         \n",
    "    metrics_data =[['CR_A', CR_A], ['CR_B', CR_B], ['ARPU_A', ARPU_A], ['ARPU_B', ARPU_B], ['ARPPU_A', ARPPU_A], ['ARPPU_B',ARPPU_B]]\n",
    "\n",
    "    df_metrics_update = pd.DataFrame(data = metrics_data, columns = ['name', 'value'])         \n",
    "\n",
    "    return df_metrics_update"
   ]
  },
  {
   "cell_type": "code",
   "execution_count": 367,
   "id": "138903d8",
   "metadata": {},
   "outputs": [
    {
     "data": {
      "text/html": [
       "<div>\n",
       "<style scoped>\n",
       "    .dataframe tbody tr th:only-of-type {\n",
       "        vertical-align: middle;\n",
       "    }\n",
       "\n",
       "    .dataframe tbody tr th {\n",
       "        vertical-align: top;\n",
       "    }\n",
       "\n",
       "    .dataframe thead th {\n",
       "        text-align: right;\n",
       "    }\n",
       "</style>\n",
       "<table border=\"1\" class=\"dataframe\">\n",
       "  <thead>\n",
       "    <tr style=\"text-align: right;\">\n",
       "      <th></th>\n",
       "      <th>name</th>\n",
       "      <th>value</th>\n",
       "    </tr>\n",
       "  </thead>\n",
       "  <tbody>\n",
       "    <tr>\n",
       "      <th>0</th>\n",
       "      <td>CR_A</td>\n",
       "      <td>0.068283</td>\n",
       "    </tr>\n",
       "    <tr>\n",
       "      <th>1</th>\n",
       "      <td>CR_B</td>\n",
       "      <td>0.046156</td>\n",
       "    </tr>\n",
       "    <tr>\n",
       "      <th>2</th>\n",
       "      <td>ARPU_A</td>\n",
       "      <td>58.772176</td>\n",
       "    </tr>\n",
       "    <tr>\n",
       "      <th>3</th>\n",
       "      <td>ARPU_B</td>\n",
       "      <td>58.058798</td>\n",
       "    </tr>\n",
       "    <tr>\n",
       "      <th>4</th>\n",
       "      <td>ARPPU_A</td>\n",
       "      <td>860.710280</td>\n",
       "    </tr>\n",
       "    <tr>\n",
       "      <th>5</th>\n",
       "      <td>ARPPU_B</td>\n",
       "      <td>1257.878992</td>\n",
       "    </tr>\n",
       "  </tbody>\n",
       "</table>\n",
       "</div>"
      ],
      "text/plain": [
       "      name        value\n",
       "0     CR_A     0.068283\n",
       "1     CR_B     0.046156\n",
       "2   ARPU_A    58.772176\n",
       "3   ARPU_B    58.058798\n",
       "4  ARPPU_A   860.710280\n",
       "5  ARPPU_B  1257.878992"
      ]
     },
     "execution_count": 367,
     "metadata": {},
     "output_type": "execute_result"
    }
   ],
   "source": [
    "df_metrics_update = update_metrics(df_groups_add)\n",
    "df_metrics_update"
   ]
  },
  {
   "cell_type": "markdown",
   "id": "b1806c30",
   "metadata": {},
   "source": [
    "### 2.2. Графики <a name =\"Графики\"></a>"
   ]
  },
  {
   "cell_type": "markdown",
   "id": "4ebb6816",
   "metadata": {},
   "source": [
    "Реализуйте функцию, которая будет строить графики по получаемым метрикам."
   ]
  },
  {
   "cell_type": "code",
   "execution_count": 370,
   "id": "d2c3f7df",
   "metadata": {},
   "outputs": [
    {
     "data": {
      "image/png": "[encoded data removed]",
      "text/plain": [
       "<Figure size 600x600 with 3 Axes>"
      ]
     },
     "metadata": {},
     "output_type": "display_data"
    }
   ],
   "source": [
    "def plot_metrics_data(df_metrics_update):\n",
    "    sns.set_style('ticks')\n",
    "    sns.set_palette(\"pastel\")\n",
    "    fig, axes = plt.subplots(nrows=3, ncols=1, figsize=(12,3))\n",
    "    plt.tight_layout(pad=2)\n",
    "    \n",
    "    # заголовок\n",
    "    fig.suptitle('Метрики', fontsize=16)\n",
    "    \n",
    "    # названия графиков\n",
    "    axes[0].set_title('CR')\n",
    "    axes[1].set_title('ARPU')\n",
    "    axes[2].set_title('ARPPU')\n",
    "    \n",
    "    # размер графиков\n",
    "    fig.set_size_inches(6, 6)\n",
    "    \n",
    "    graph_CR    = sns.barplot(x='value', ax=axes[0], y='name', data=df_metrics_update.iloc[0:2])\n",
    "    graph_ARPU  = sns.barplot(x='value', ax=axes[1], y='name', data=df_metrics_update.iloc[2:4])\n",
    "    graph_ARPPU = sns.barplot(x='value', ax=axes[2], y='name', data=df_metrics_update.iloc[4:6])\n",
    "    \n",
    "    sns.despine()\n",
    "    plt.show()\n",
    "\n",
    "\n",
    "plot_metrics_data(df_metrics_update)"
   ]
  },
  {
   "cell_type": "code",
   "execution_count": null,
   "id": "326092f7",
   "metadata": {},
   "outputs": [],
   "source": []
  }
 ],
 "metadata": {
  "celltoolbar": "Необработанный формат ячейки",
  "kernelspec": {
   "display_name": "Python 3 (ipykernel)",
   "language": "python",
   "name": "python3"
  },
  "language_info": {
   "codemirror_mode": {
    "name": "ipython",
    "version": 3
   },
   "file_extension": ".py",
   "mimetype": "text/x-python",
   "name": "python",
   "nbconvert_exporter": "python",
   "pygments_lexer": "ipython3",
   "version": "3.9.13"
  }
 },
 "nbformat": 4,
 "nbformat_minor": 5
}
